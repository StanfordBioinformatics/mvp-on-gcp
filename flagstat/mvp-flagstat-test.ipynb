{
 "cells": [
  {
   "cell_type": "markdown",
   "metadata": {},
   "source": [
    "# Samtools Flagstat\n",
    "# What does this do?\n",
    "\n",
    "### Run Samtools Flagstat\n",
    "- Get list of sample IDs for all alignments.bam files on Google Cloud Storage (GCS)\n",
    "- Get list of sample IDs for all flagstat.tsv files on GCS\n",
    "- Compare lists to find samples missing flagstat.tsv files\n",
    "- Use make-batch-tsv-from-input-sample.py to generate dsub task file\n",
    "- Run dsub tasks to generate missing flagstat.tsv files\n",
    "\n",
    "### Convert flagstat result files to CSV format\n",
    "- Get list of all flagstat.tsv files\n",
    "- Get list of all flagstat.tsv.csv files\n",
    "- Convert each to lists of sample IDs\n",
    "- Compare lists to find samples that are missing flagstat.tsv.csv files\n",
    "- Use make-batch-tsv-from-input-file.py to generate dsub task file\n",
    "- Run dsub to generate missing flagstat.tsv.csv files\n",
    "\n",
    "### Concatenate CSV Files\n",
    "- Get list of all flagstat.tsv.csv files\n",
    "- Run dsub to concatenate all flagstat.tsv.csv files"
   ]
  },
  {
   "cell_type": "markdown",
   "metadata": {},
   "source": [
    "# Code"
   ]
  },
  {
   "cell_type": "markdown",
   "metadata": {},
   "source": [
    "## 0. Check that environment variables have been loaded correctly"
   ]
  },
  {
   "cell_type": "markdown",
   "metadata": {},
   "source": [
    "Environment variables are imported from the mvp-profile.sh file. If this echo command does not return anything, try sourcing it from the command console. If any of the values are incorrect, change them in mvp-profile.sh, save it, and source it again."
   ]
  },
  {
   "cell_type": "code",
   "execution_count": 1,
   "metadata": {},
   "outputs": [
    {
     "name": "stdout",
     "output_type": "stream",
     "text": [
      "Date stamp: 20180504\n",
      "Home directory: /Users/jinasong/Work/MVP/mvp-on-gcp\n",
      "Project: gbsc-gcp-project-mvp\n",
      "Bucket: gbsc-gcp-project-mvp-group/for-jina\n",
      "Zone: us-*\n"
     ]
    }
   ],
   "source": [
    "echo \"Date stamp: ${date_stamp}\"\n",
    "echo \"Home directory: ${mvp_hub}\"\n",
    "echo \"Project: ${mvp_project}\"\n",
    "echo \"Bucket: ${mvp_bucket}\"\n",
    "echo \"Zone: ${mvp_zone}\""
   ]
  },
  {
   "cell_type": "markdown",
   "metadata": {},
   "source": [
    "## 1. Run samtools flagstat"
   ]
  },
  {
   "cell_type": "markdown",
   "metadata": {},
   "source": [
    "#### Create file accounting directory it doesn't already exist"
   ]
  },
  {
   "cell_type": "code",
   "execution_count": 2,
   "metadata": {
    "scrolled": true
   },
   "outputs": [],
   "source": [
    "accounting_dir=\"${mvp_hub}/flagstat/file-accounting/${date_stamp}\"\n",
    "#mkdir -p ${accounting_dir}\n",
    "dsub_inputs_dir=\"${mvp_hub}/flagstat/dsub-inputs\""
   ]
  },
  {
   "cell_type": "markdown",
   "metadata": {},
   "source": [
    "#### Get list of sample IDs for bam files that already exist on Google Cloud Storage"
   ]
  },
  {
   "cell_type": "code",
   "execution_count": 43,
   "metadata": {},
   "outputs": [
    {
     "name": "stdout",
     "output_type": "stream",
     "text": [
      "Bucket_Orig: gbsc-gcp-project-mvp-phase-2-data\n"
     ]
    }
   ],
   "source": [
    "%%bash\n",
    "export mvp_bucket_org=\"gbsc-gcp-project-mvp-phase-2-data\"\n",
    "accounting_dir=\"${mvp_hub}/flagstat/file-accounting/${date_stamp}\"\n",
    "\n",
    "## For three samples\n",
    "gsutil ls gs://${mvp_bucket_org}/data/bina-deliverables/40013463/*/Recalibration/alignments.bam \\\n",
    "    > ${accounting_dir}/gs-bam-${date_stamp}.txt\n",
    "gsutil ls gs://${mvp_bucket_org}/data/bina-deliverables/40050177/*/Recalibration/alignments.bam \\\n",
    "    >> ${accounting_dir}/gs-bam-${date_stamp}.txt\n",
    "gsutil ls gs://${mvp_bucket_org}/data/bina-deliverables/40101045/*/Recalibration/alignments.bam \\\n",
    "    >> ${accounting_dir}/gs-bam-${date_stamp}.txt\n",
    "cut -d'/' -f6 ${accounting_dir}/gs-bam-${date_stamp}.txt \\\n",
    "    > ${accounting_dir}/gs-bam-sample-ids-${date_stamp}.txt"
   ]
  },
  {
   "cell_type": "markdown",
   "metadata": {},
   "source": [
    "#### Get list sample IDs for flagstat files that already exist on Google Cloud Storage"
   ]
  },
  {
   "cell_type": "code",
   "execution_count": 46,
   "metadata": {},
   "outputs": [],
   "source": [
    "%%bash\n",
    "export mvp_bucket_org=\"gbsc-gcp-project-mvp-phase-2-data\"\n",
    "accounting_dir=\"${mvp_hub}/flagstat/file-accounting/${date_stamp}\"\n",
    "gsutil ls gs://${mvp_bucket_org}/dsub/flagstat/samtools/objects/*.flagstat.tsv \\\n",
    "    > ${accounting_dir}/gs-flagstat-${date_stamp}.txt\n",
    "cut -d '/' -f8 ${accounting_dir}/gs-flagstat-${date_stamp}.txt \\\n",
    "    | cut -d'_' -f1 > ${accounting_dir}/gs-flagstat-sample-ids-${date_stamp}.txt"
   ]
  },
  {
   "cell_type": "markdown",
   "metadata": {},
   "source": [
    "#### Get difference between lists of sample IDs to find out which samples are missing flatstat files"
   ]
  },
  {
   "cell_type": "code",
   "execution_count": 47,
   "metadata": {},
   "outputs": [],
   "source": [
    "%%bash\n",
    "accounting_dir=\"${mvp_hub}/flagstat/file-accounting/${date_stamp}\"\n",
    "diff --new-line-format=\"\" --unchanged-line-format \"\" \\\n",
    "    <(sort ${accounting_dir}/gs-bam-sample-ids-${date_stamp}.txt) \\\n",
    "    <(sort ${accounting_dir}/gs-flagstat-sample-ids-${date_stamp}.txt) \\\n",
    "    > ${accounting_dir}/gs-flagstat-missing-sample-ids-${date_stamp}.txt\n",
    "grep -F \\\n",
    "    -f ${accounting_dir}/gs-flagstat-missing-sample-ids-${date_stamp}.txt \\\n",
    "    ${accounting_dir}/gs-bam-${date_stamp} \\\n",
    "    > ${accounting_dir}/gs-flagstat-missing-${date_stamp}.txt"
   ]
  },
  {
   "cell_type": "markdown",
   "metadata": {},
   "source": [
    "#### Create dsub TSV task file to generate missing flatstat files"
   ]
  },
  {
   "cell_type": "code",
   "execution_count": 64,
   "metadata": {},
   "outputs": [],
   "source": [
    "%%bash\n",
    "accounting_dir=\"${mvp_hub}/flagstat/file-accounting/${date_stamp}\"\n",
    "dsub_inputs_dir=\"${mvp_hub}/flagstat/dsub-inputs/samtools\"\n",
    "mkdir -p ${dsub_inputs_dir}\n",
    "\n",
    "# For test, cp gs-bam-{date_stamp}.txt gs-flagstat-missing-{date_stamp}.txt\n",
    "\n",
    "${mvp_hub}/bin/make-batch-tsv-from-input-sample.py \\\n",
    "    -i ${accounting_dir}/gs-flagstat-missing-${date_stamp}.txt \\\n",
    "    -t ${dsub_inputs_dir}/gs-flagstat-missing-${date_stamp}.tsv \\\n",
    "    -o gs://${mvp_bucket}/dsub/flagstat/samtools/objects \\\n",
    "    -s alignments.bam.flagstat.tsv"
   ]
  },
  {
   "cell_type": "markdown",
   "metadata": {},
   "source": [
    "#### Run Samtools flatstat dsub tasks"
   ]
  },
  {
   "cell_type": "code",
   "execution_count": 66,
   "metadata": {},
   "outputs": [
    {
     "name": "stdout",
     "output_type": "stream",
     "text": [
      "samtools--jinasong--180503-153030-55\n"
     ]
    },
    {
     "name": "stderr",
     "output_type": "stream",
     "text": [
      "Job: samtools--jinasong--180503-153030-55\n",
      "Launched job-id: samtools--jinasong--180503-153030-55\n",
      "3 task(s)\n",
      "To check the status, run:\n",
      "  dstat --project gbsc-gcp-project-mvp --jobs 'samtools--jinasong--180503-153030-55' --status '*'\n",
      "To cancel the job, run:\n",
      "  ddel --project gbsc-gcp-project-mvp --jobs 'samtools--jinasong--180503-153030-55'\n"
     ]
    }
   ],
   "source": [
    "%%bash\n",
    "dsub_inputs_dir=\"${mvp_hub}/flagstat/dsub-inputs/samtools\"\n",
    "\n",
    "dsub \\\n",
    "    --zones \"${mvp_zone}\" \\\n",
    "    --project ${mvp_project} \\\n",
    "    --logging gs://${mvp_bucket}/dsub/flagstat/samtools/logs/${date_stamp} \\\n",
    "    --image gcr.io/${mvp_project}/samtools \\\n",
    "    --disk-size 1000 \\\n",
    "    --command 'samtools flagstat ${INPUT} > ${OUTPUT}' \\\n",
    "    --tasks ${dsub_inputs_dir}/gs-flagstat-missing-${date_stamp}.tsv ${dsub_range} \\\n",
    "    #--dry-run"
   ]
  },
  {
   "cell_type": "markdown",
   "metadata": {},
   "source": [
    "## 2. Convert flatstat result files to CSV format"
   ]
  },
  {
   "cell_type": "markdown",
   "metadata": {},
   "source": [
    "#### Get list of sample IDs for flatstat files that already exist on Google Cloud Storage"
   ]
  },
  {
   "cell_type": "code",
   "execution_count": 11,
   "metadata": {},
   "outputs": [
    {
     "name": "stdout",
     "output_type": "stream",
     "text": [
      "Date stamp: 20180503\n"
     ]
    }
   ],
   "source": [
    "%%bash\n",
    "#export date_stamp=\"20180503\"\n",
    "#echo \"Date stamp: ${date_stamp}\"\n",
    "#accounting_dir=\"${mvp_hub}/flagstat/file-accounting/${date_stamp}\"\n",
    "\n",
    "gsutil ls gs://${mvp_bucket}/dsub/flagstat/samtools/objects/*alignments.bam.flagstat.tsv \\\n",
    "    > ${accounting_dir}/gs-flagstat-tsv-${date_stamp}.txt\n",
    "cut -d'/' -f8 ${accounting_dir}/gs-flagstat-tsv-${date_stamp}.txt \\\n",
    "    | cut -d'_' -f1 > ${accounting_dir}/gs-flagstat-tsv-sample-ids-${date_stamp}.txt\n",
    "\n",
    "# For skipping difference check\n",
    "#cp ${accounting_dir}/gs-flagstat-tsv-${date_stamp}.txt ${accounting_dir}/gs-flagstat-csv-missing-${date_stamp}.txt"
   ]
  },
  {
   "cell_type": "markdown",
   "metadata": {},
   "source": [
    "#### Get list of sample IDs for flatstat CSV files that already exist on Google Cloud Storage"
   ]
  },
  {
   "cell_type": "code",
   "execution_count": null,
   "metadata": {},
   "outputs": [],
   "source": [
    "# skip, assume we have no csv file\n",
    "\n",
    "gsutil ls gs://${mvp_bucket}/dsub/flagstat/text-to-table/objects/*alignments.bam.flagstat.tsv.csv \\\n",
    "    > ${accounting_dir}/gs-flagstat-csv-${date_stamp}.txt\n",
    "cut -d'/' -f8 ${accounting_dir}/gs-flagstat-csv-${date_stamp}.txt \\\n",
    "    | cut -d'_' -f1 > ${accounting_dir}/gs-flagstat-csv-sample-ids-${date_stamp}.txt"
   ]
  },
  {
   "cell_type": "markdown",
   "metadata": {},
   "source": [
    "#### Get difference between lists of sample IDs to find out which samples are missing vcfstats files"
   ]
  },
  {
   "cell_type": "code",
   "execution_count": null,
   "metadata": {},
   "outputs": [],
   "source": [
    "# skip, assume we have no csv file\n",
    "# cp gs-flagstat-tsv-${date_stamp}.txt gs-flagstat-csv-missing-${date_stamp}.txt\n",
    "\n",
    "diff \\\n",
    "    --new-line-format=\"\" --unchanged-line-format \"\" \\\n",
    "    <(sort ${accounting_dir}/gs-flagstat-tsv-sample-ids-${date_stamp}.txt) \\\n",
    "    <(sort ${accounting_dir}/gs-flagstat-csv-sample-ids-${date_stamp}.txt) \\\n",
    "    > ${accounting_dir}/gs-flagstat-csv-sample-ids-missing-${date_stamp}.txt\n",
    "grep -F \\\n",
    "    -f ${accounting_dir}/gs-flagstat-csv-sample-ids-missing-${date_stamp}.txt \\\n",
    "    ${accounting_dir}/gs-flagstat-tsv-${date_stamp}.txt \\\n",
    "    > ${accounting_dir}/gs-flagstat-csv-missing-${date_stamp}.txt"
   ]
  },
  {
   "cell_type": "markdown",
   "metadata": {},
   "source": [
    "#### Convert file list to dsub TSV files"
   ]
  },
  {
   "cell_type": "code",
   "execution_count": 13,
   "metadata": {},
   "outputs": [],
   "source": [
    "%%bash\n",
    "export date_stamp=\"20180503\"\n",
    "accounting_dir=\"${mvp_hub}/flagstat/file-accounting/${date_stamp}\"\n",
    "dsub_inputs_dir=\"${mvp_hub}/flagstat/dsub-inputs/text-to-table\"\n",
    "mkdir -p ${dsub_inputs_dir}\n",
    "\n",
    "${mvp_hub}/bin/make-batch-tsv-from-input-file.py \\\n",
    "    -i ${accounting_dir}/gs-flagstat-csv-missing-${date_stamp}.txt \\\n",
    "    -t ${dsub_inputs_dir}/gs-vcfstats-csv-missing-${date_stamp}.tsv \\\n",
    "    -o gs://${mvp_bucket}/dsub/flagstat/text-to-table/objects \\\n",
    "    -s csv \\\n",
    "    -c flagstat \\\n",
    "    -e flagstat-${date_stamp}"
   ]
  },
  {
   "cell_type": "markdown",
   "metadata": {},
   "source": [
    "#### Run dsub task"
   ]
  },
  {
   "cell_type": "code",
   "execution_count": 14,
   "metadata": {},
   "outputs": [
    {
     "name": "stdout",
     "output_type": "stream",
     "text": [
      "text2table--jinasong--180504-133500-07\n"
     ]
    },
    {
     "name": "stderr",
     "output_type": "stream",
     "text": [
      "Job: text2table--jinasong--180504-133500-07\n",
      "Launched job-id: text2table--jinasong--180504-133500-07\n",
      "3 task(s)\n",
      "To check the status, run:\n",
      "  dstat --project gbsc-gcp-project-mvp --jobs 'text2table--jinasong--180504-133500-07' --status '*'\n",
      "To cancel the job, run:\n",
      "  ddel --project gbsc-gcp-project-mvp --jobs 'text2table--jinasong--180504-133500-07'\n"
     ]
    }
   ],
   "source": [
    "%%bash\n",
    "export date_stamp=\"20180503\"\n",
    "dsub_inputs_dir=\"${mvp_hub}/flagstat/dsub-inputs\"\n",
    "dsub \\\n",
    "    --zones ${mvp_zone} \\\n",
    "    --project ${mvp_project} \\\n",
    "    --logging gs://${mvp_bucket}/dsub/flagstat/text-to-table/logs/${date_stamp} \\\n",
    "    --image gcr.io/${mvp_project}/text-to-table:0.2.0 \\\n",
    "    --command 'text2table -s ${SCHEMA} -o ${OUTPUT} -v series=${SERIES},sample=${SAMPLE_ID} ${INPUT}' \\\n",
    "    --tasks ${dsub_inputs_dir}/text-to-table/gs-vcfstats-csv-missing-${date_stamp}.tsv ${dsub_range} \\\n",
    "    #--dry-run"
   ]
  },
  {
   "cell_type": "markdown",
   "metadata": {},
   "source": [
    "## 3. Concatenate CSV Files"
   ]
  },
  {
   "cell_type": "markdown",
   "metadata": {},
   "source": [
    "#### Get new list of completed results files"
   ]
  },
  {
   "cell_type": "code",
   "execution_count": 15,
   "metadata": {},
   "outputs": [],
   "source": [
    "%%bash\n",
    "export date_stamp=\"20180503\"\n",
    "accounting_dir=\"${mvp_hub}/flagstat/file-accounting/${date_stamp}\"\n",
    "gsutil ls gs://${mvp_bucket}/dsub/flagstat/text-to-table/objects/*alignments.bam.flagstat.tsv.csv \\\n",
    "    > ${accounting_dir}/gs-flagstat-csv-${date_stamp}.txt"
   ]
  },
  {
   "cell_type": "markdown",
   "metadata": {},
   "source": [
    "#### Run dsub task"
   ]
  },
  {
   "cell_type": "code",
   "execution_count": null,
   "metadata": {},
   "outputs": [],
   "source": [
    "dsub \\\n",
    "    --zones ${mvp_zone} \\\n",
    "    --project ${mvp_project} \\\n",
    "    --logging gs://${mvp_bucket}/dsub/flagstat/concat/logs/${date_stamp} \\\n",
    "    --image gcr.io/${mvp_project}/text-to-table:0.2.0 \\\n",
    "    --disk-size 100 \\\n",
    "    --input INPUT_FILES=gs://${mvp_bucket}/dsub/flagstat/text-to-table/objects/*alignments.bam.flagstat.tsv.csv \\\n",
    "    --output CONCAT_FILE=gs://${mvp_bucket}/dsub/flagstat/concat/objects/concat_alignments.bam.flagstat.tsv.csv \\\n",
    "    --command 'cat ${INPUT_FILES} > ${CONCAT_FILE}' \\"
   ]
  },
  {
   "cell_type": "code",
   "execution_count": null,
   "metadata": {},
   "outputs": [],
   "source": []
  }
 ],
 "metadata": {
  "kernelspec": {
   "display_name": "Bash",
   "language": "bash",
   "name": "bash"
  },
  "language_info": {
   "codemirror_mode": "shell",
   "file_extension": ".sh",
   "mimetype": "text/x-sh",
   "name": "bash"
  }
 },
 "nbformat": 4,
 "nbformat_minor": 2
}
