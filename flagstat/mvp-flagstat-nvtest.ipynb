{
 "cells": [
  {
   "cell_type": "markdown",
   "metadata": {},
   "source": [
    "# Samtools Flagstat\n",
    "# What does this do?\n",
    "\n",
    "### Run Samtools Flagstat\n",
    "- Get list of sample IDs for all alignments.bam files on Google Cloud Storage (GCS)\n",
    "- Get list of sample IDs for all flagstat.tsv files on GCS\n",
    "- Compare lists to find samples missing flagstat.tsv files\n",
    "- Use make-batch-tsv-from-input-sample.py to generate dsub task file\n",
    "- Run dsub tasks to generate missing flagstat.tsv files\n",
    "\n",
    "### Convert flagstat result files to CSV format\n",
    "- Get list of all flagstat.tsv files\n",
    "- Get list of all flagstat.tsv.csv files\n",
    "- Convert each to lists of sample IDs\n",
    "- Compare lists to find samples that are missing flagstat.tsv.csv files\n",
    "- Use make-batch-tsv-from-input-file.py to generate dsub task file\n",
    "- Run dsub to generate missing flagstat.tsv.csv files\n",
    "\n",
    "### Concatenate CSV Files\n",
    "- Get list of all flagstat.tsv.csv files\n",
    "- Run dsub to concatenate all flagstat.tsv.csv files"
   ]
  },
  {
   "cell_type": "markdown",
   "metadata": {},
   "source": [
    "# Code"
   ]
  },
  {
   "cell_type": "markdown",
   "metadata": {},
   "source": [
    "## 0. Check that environment variables have been loaded correctly"
   ]
  },
  {
   "cell_type": "markdown",
   "metadata": {},
   "source": [
    "Environment variables are imported from the mvp-profile.sh file. If this echo command does not return anything, try sourcing it from the command console. If any of the values are incorrect, change them in mvp-profile.sh, save it, and source it again."
   ]
  },
  {
   "cell_type": "code",
   "execution_count": 3,
   "metadata": {},
   "outputs": [
    {
     "name": "stdout",
     "output_type": "stream",
     "text": [
      "Date stamp: 20180615\n",
      "Home directory: /Users/jinasong/Work/MVP/mvp-on-gcp\n",
      "Project: gbsc-gcp-project-mvp\n",
      "Bucket: gbsc-gcp-project-mvp-group/for-jina\n",
      "Zone: us-*\n"
     ]
    }
   ],
   "source": [
    "echo \"Date stamp: ${date_stamp}\"\n",
    "echo \"Home directory: ${mvp_hub}\"\n",
    "echo \"Project: ${mvp_project}\"\n",
    "echo \"Bucket: ${mvp_bucket}\"\n",
    "echo \"Zone: ${mvp_zone}\""
   ]
  },
  {
   "cell_type": "markdown",
   "metadata": {},
   "source": [
    "## 1. Run samtools flagstat"
   ]
  },
  {
   "cell_type": "markdown",
   "metadata": {},
   "source": [
    "#### Create file accounting directory it doesn't already exist"
   ]
  },
  {
   "cell_type": "code",
   "execution_count": 4,
   "metadata": {
    "scrolled": true
   },
   "outputs": [],
   "source": [
    "accounting_dir=\"${mvp_hub}/flagstat/file-accounting/${date_stamp}\"\n",
    "mkdir -p ${accounting_dir}\n",
    "dsub_inputs_dir=\"${mvp_hub}/flagstat/dsub-inputs\"\n",
    "mkdir -p ${dsub_inputs_dir}"
   ]
  },
  {
   "cell_type": "markdown",
   "metadata": {},
   "source": [
    "#### Get list of sample IDs for bam files that already exist on Google Cloud Storage"
   ]
  },
  {
   "cell_type": "code",
   "execution_count": 3,
   "metadata": {},
   "outputs": [],
   "source": [
    "## getting the list for all bam files    \n",
    "gsutil ls gs://${mvp_bucket}/*/Alignments/*.bam \\\n",
    "    > ${accounting_dir}/gs-bam-${date_stamp}.txt\n",
    "\n",
    "cut -d'/' -f7 ${accounting_dir}/gs-bam-${date_stamp}.txt \\\n",
    "   | cut -d'.' -f1 > ${accounting_dir}/gs-bam-sample-ids-${date_stamp}.txt # with chr"
   ]
  },
  {
   "cell_type": "markdown",
   "metadata": {},
   "source": [
    "#### Get list sample IDs for flagstat files that already exist on Google Cloud Storage"
   ]
  },
  {
   "cell_type": "code",
   "execution_count": 8,
   "metadata": {},
   "outputs": [],
   "source": [
    "gsutil ls gs://${mvp_bucket}/dsub/flagstat/samtools/objects/*.flagstat.tsv \\\n",
    "    > ${accounting_dir}/gs-flagstat-${date_stamp}.txt\n",
    "cut -d '/' -f9 ${accounting_dir}/gs-flagstat-${date_stamp}.txt \\\n",
    "    | cut -d'_' -f1-3 > ${accounting_dir}/gs-flagstat-sample-ids-${date_stamp}.txt  # check param # -f8"
   ]
  },
  {
   "cell_type": "markdown",
   "metadata": {},
   "source": [
    "#### Get difference between lists of sample IDs to find out which samples are missing flatstat files"
   ]
  },
  {
   "cell_type": "code",
   "execution_count": 9,
   "metadata": {},
   "outputs": [
    {
     "ename": "",
     "evalue": "1",
     "output_type": "error",
     "traceback": []
    }
   ],
   "source": [
    "# test\n",
    "# gsutil cp ${accounting_dir}/gs-bam-${date_stamp}.txt ${accounting_dir}/gs-flagstat-missing-${date_stamp}.txt\n",
    "\n",
    "diff --new-line-format=\"\" --unchanged-line-format \"\" \\\n",
    "    <(sort ${accounting_dir}/gs-bam-sample-ids-${date_stamp}.txt) \\\n",
    "    <(sort ${accounting_dir}/gs-flagstat-sample-ids-${date_stamp}.txt) \\\n",
    "    > ${accounting_dir}/gs-flagstat-missing-sample-ids-${date_stamp}.txt\n",
    "grep -F \\\n",
    "    -f ${accounting_dir}/gs-flagstat-missing-sample-ids-${date_stamp}.txt \\\n",
    "    ${accounting_dir}/gs-bam-${date_stamp}.txt \\\n",
    "    > ${accounting_dir}/gs-flagstat-missing-${date_stamp}.txt"
   ]
  },
  {
   "cell_type": "markdown",
   "metadata": {},
   "source": [
    "#### Create dsub TSV task file to generate missing flatstat files"
   ]
  },
  {
   "cell_type": "code",
   "execution_count": 11,
   "metadata": {},
   "outputs": [],
   "source": [
    "${mvp_hub}/bin/make-batch-tsv-from-input-sample.py \\\n",
    "    -i ${accounting_dir}/gs-flagstat-missing-${date_stamp}.txt \\\n",
    "    -t ${dsub_inputs_dir}/samtools/gs-flagstat-missing-${date_stamp}.tsv \\\n",
    "    -o gs://${mvp_bucket}/dsub/flagstat/samtools/objects \\\n",
    "    -s alignments.bam.flagstat.tsv"
   ]
  },
  {
   "cell_type": "markdown",
   "metadata": {},
   "source": [
    "#### Run Samtools flatstat dsub tasks"
   ]
  },
  {
   "cell_type": "code",
   "execution_count": 12,
   "metadata": {},
   "outputs": [
    {
     "name": "stdout",
     "output_type": "stream",
     "text": [
      "Job: samtools--jinasong--180615-122636-75\n",
      "Launched job-id: samtools--jinasong--180615-122636-75\n",
      "25 task(s)\n",
      "To check the status, run:\n",
      "  dstat --project gbsc-gcp-project-mvp --jobs 'samtools--jinasong--180615-122636-75' --status '*'\n",
      "To cancel the job, run:\n",
      "  ddel --project gbsc-gcp-project-mvp --jobs 'samtools--jinasong--180615-122636-75'\n",
      "samtools--jinasong--180615-122636-75\n"
     ]
    }
   ],
   "source": [
    "dsub \\\n",
    "    --zones \"${mvp_zone}\" \\\n",
    "    --project ${mvp_project} \\\n",
    "    --logging gs://${mvp_bucket}/dsub/flagstat/samtools/logs/${date_stamp} \\\n",
    "    --image gcr.io/${mvp_project}/samtools_1.3.1 \\\n",
    "    --disk-size 1000 \\\n",
    "    --command 'samtools flagstat ${INPUT} > ${OUTPUT}' \\\n",
    "    --tasks ${dsub_inputs_dir}/samtools/gs-flagstat-missing-${date_stamp}.tsv "
   ]
  },
  {
   "cell_type": "markdown",
   "metadata": {},
   "source": [
    "## 2. Convert flatstat result files to CSV format"
   ]
  },
  {
   "cell_type": "markdown",
   "metadata": {},
   "source": [
    "#### Get list of sample IDs for flatstat files that already exist on Google Cloud Storage"
   ]
  },
  {
   "cell_type": "code",
   "execution_count": 12,
   "metadata": {},
   "outputs": [],
   "source": [
    "gsutil ls gs://${mvp_bucket}/dsub/flagstat/samtools/objects/*alignments.bam.flagstat.tsv \\\n",
    "    > ${accounting_dir}/gs-flagstat-tsv-${date_stamp}.txt\n",
    "cut -d'/' -f9 ${accounting_dir}/gs-flagstat-tsv-${date_stamp}.txt \\\n",
    "    | cut -d'_' -f1-3 > ${accounting_dir}/gs-flagstat-tsv-sample-ids-${date_stamp}.txt"
   ]
  },
  {
   "cell_type": "markdown",
   "metadata": {},
   "source": [
    "#### Get list of sample IDs for flatstat CSV files that already exist on Google Cloud Storage"
   ]
  },
  {
   "cell_type": "code",
   "execution_count": 13,
   "metadata": {},
   "outputs": [],
   "source": [
    "gsutil ls gs://${mvp_bucket}/dsub/flagstat/text-to-table/objects/*alignments.bam.flagstat.tsv.csv \\\n",
    "    > ${accounting_dir}/gs-flagstat-csv-${date_stamp}.txt\n",
    "cut -d'/' -f9 ${accounting_dir}/gs-flagstat-csv-${date_stamp}.txt \\\n",
    "    | cut -d'_' -f1-3 > ${accounting_dir}/gs-flagstat-csv-sample-ids-${date_stamp}.txt # check -f9"
   ]
  },
  {
   "cell_type": "markdown",
   "metadata": {},
   "source": [
    "#### Get difference between lists of sample IDs to find out which samples are missing vcfstats files"
   ]
  },
  {
   "cell_type": "code",
   "execution_count": 15,
   "metadata": {},
   "outputs": [],
   "source": [
    "# test\n",
    "# cp  ${accounting_dir}/gs-flagstat-tsv-${date_stamp}.txt ${accounting_dir}/gs-flagstat-csv-missing-${date_stamp}.txt"
   ]
  },
  {
   "cell_type": "code",
   "execution_count": 14,
   "metadata": {},
   "outputs": [
    {
     "ename": "",
     "evalue": "1",
     "output_type": "error",
     "traceback": []
    }
   ],
   "source": [
    "diff \\\n",
    "    --new-line-format=\"\" --unchanged-line-format \"\" \\\n",
    "    <(sort ${accounting_dir}/gs-flagstat-tsv-sample-ids-${date_stamp}.txt) \\\n",
    "    <(sort ${accounting_dir}/gs-flagstat-csv-sample-ids-${date_stamp}.txt) \\\n",
    "    > ${accounting_dir}/gs-flagstat-csv-sample-ids-missing-${date_stamp}.txt\n",
    "grep -F \\\n",
    "    -f ${accounting_dir}/gs-flagstat-csv-sample-ids-missing-${date_stamp}.txt \\\n",
    "    ${accounting_dir}/gs-flagstat-tsv-${date_stamp}.txt \\\n",
    "    > ${accounting_dir}/gs-flagstat-csv-missing-${date_stamp}.txt"
   ]
  },
  {
   "cell_type": "markdown",
   "metadata": {},
   "source": [
    "#### Convert file list to dsub TSV files"
   ]
  },
  {
   "cell_type": "code",
   "execution_count": 16,
   "metadata": {},
   "outputs": [],
   "source": [
    "${mvp_hub}/bin/make-batch-tsv-from-input-file.py \\\n",
    "    -i ${accounting_dir}/gs-flagstat-csv-missing-${date_stamp}.txt \\\n",
    "    -t ${dsub_inputs_dir}/text-to-table/gs-vcfstats-csv-missing-${date_stamp}.tsv \\\n",
    "    -o gs://${mvp_bucket}/dsub/flagstat/text-to-table/objects \\\n",
    "    -s csv \\\n",
    "    -c flagstat \\\n",
    "    -e flagstat-${date_stamp}"
   ]
  },
  {
   "cell_type": "markdown",
   "metadata": {},
   "source": [
    "#### Run dsub task"
   ]
  },
  {
   "cell_type": "code",
   "execution_count": 17,
   "metadata": {},
   "outputs": [
    {
     "name": "stdout",
     "output_type": "stream",
     "text": [
      "Job: text2table--jinasong--180615-131201-50\n",
      "Launched job-id: text2table--jinasong--180615-131201-50\n",
      "25 task(s)\n",
      "To check the status, run:\n",
      "  dstat --project gbsc-gcp-project-mvp --jobs 'text2table--jinasong--180615-131201-50' --status '*'\n",
      "To cancel the job, run:\n",
      "  ddel --project gbsc-gcp-project-mvp --jobs 'text2table--jinasong--180615-131201-50'\n",
      "text2table--jinasong--180615-131201-50\n"
     ]
    }
   ],
   "source": [
    "dsub \\\n",
    "    --zones ${mvp_zone} \\\n",
    "    --project ${mvp_project} \\\n",
    "    --logging gs://${mvp_bucket}/dsub/flagstat/text-to-table/logs/${date_stamp} \\\n",
    "    --image gcr.io/${mvp_project}/text-to-table:0.2.0 \\\n",
    "    --command 'text2table -s ${SCHEMA} -o ${OUTPUT} -v series=${SERIES},sample=${SAMPLE_ID} ${INPUT}' \\\n",
    "    --tasks ${dsub_inputs_dir}/text-to-table/gs-vcfstats-csv-missing-${date_stamp}.tsv"
   ]
  },
  {
   "cell_type": "markdown",
   "metadata": {},
   "source": [
    "## 3. Concatenate CSV Files"
   ]
  },
  {
   "cell_type": "markdown",
   "metadata": {},
   "source": [
    "#### Get new list of completed results files"
   ]
  },
  {
   "cell_type": "code",
   "execution_count": 18,
   "metadata": {},
   "outputs": [],
   "source": [
    "gsutil ls gs://${mvp_bucket}/dsub/flagstat/text-to-table/objects/*alignments.bam.flagstat.tsv.csv \\\n",
    "    > ${accounting_dir}/gs-flagstat-csv-${date_stamp}.txt"
   ]
  },
  {
   "cell_type": "markdown",
   "metadata": {},
   "source": [
    "#### Run dsub task"
   ]
  },
  {
   "cell_type": "code",
   "execution_count": 19,
   "metadata": {},
   "outputs": [
    {
     "name": "stdout",
     "output_type": "stream",
     "text": [
      "Job: cat--jinasong--180615-131538-02\n",
      "Launched job-id: cat--jinasong--180615-131538-02\n",
      "To check the status, run:\n",
      "  dstat --project gbsc-gcp-project-mvp --jobs 'cat--jinasong--180615-131538-02' --status '*'\n",
      "To cancel the job, run:\n",
      "  ddel --project gbsc-gcp-project-mvp --jobs 'cat--jinasong--180615-131538-02'\n",
      "cat--jinasong--180615-131538-02\n"
     ]
    }
   ],
   "source": [
    "dsub \\\n",
    "    --zones ${mvp_zone} \\\n",
    "    --project ${mvp_project} \\\n",
    "    --logging gs://${mvp_bucket}/dsub/flagstat/concat/logs/${date_stamp} \\\n",
    "    --image gcr.io/${mvp_project}/text-to-table:0.2.0 \\\n",
    "    --disk-size 100 \\\n",
    "    --input INPUT_FILES=gs://${mvp_bucket}/dsub/flagstat/text-to-table/objects/*alignments.bam.flagstat.tsv.csv \\\n",
    "    --output CONCAT_FILE=gs://${mvp_bucket}/dsub/flagstat/concat/objects/concat_alignments.bam.flagstat.tsv.csv \\\n",
    "    --command 'cat ${INPUT_FILES} > ${CONCAT_FILE}'"
   ]
  },
  {
   "cell_type": "code",
   "execution_count": 20,
   "metadata": {},
   "outputs": [
    {
     "name": "stdout",
     "output_type": "stream",
     "text": [
      "Traceback (most recent call last):\n",
      "  File \"/Users/jinasong/Work/MVP/dsub/dsub_libs/bin/dsub\", line 11, in <module>\n",
      "    load_entry_point('dsub==0.1.6', 'console_scripts', 'dsub')()\n",
      "  File \"/Users/jinasong/Work/MVP/dsub/dsub_libs/lib/python2.7/site-packages/dsub/commands/dsub.py\", line 691, in main\n",
      "    dsub_main(prog, argv)\n",
      "  File \"/Users/jinasong/Work/MVP/dsub/dsub_libs/lib/python2.7/site-packages/dsub/commands/dsub.py\", line 680, in dsub_main\n",
      "    launched_job = run_main(args)\n",
      "  File \"/Users/jinasong/Work/MVP/dsub/dsub_libs/lib/python2.7/site-packages/dsub/commands/dsub.py\", line 715, in run_main\n",
      "    args.output_recursive, input_file_param_util, output_file_param_util)\n",
      "  File \"/Users/jinasong/Work/MVP/dsub/dsub_libs/lib/python2.7/site-packages/dsub/lib/param_util.py\", line 571, in args_to_job_params\n",
      "    input_data.add(input_file_param_util.make_param(name, value, recursive))\n",
      "  File \"/Users/jinasong/Work/MVP/dsub/dsub_libs/lib/python2.7/site-packages/dsub/lib/param_util.py\", line 293, in make_param\n",
      "    docker_path, uri_parts, provider = self.parse_uri(raw_uri, recursive)\n",
      "  File \"/Users/jinasong/Work/MVP/dsub/dsub_libs/lib/python2.7/site-packages/dsub/lib/param_util.py\", line 285, in parse_uri\n",
      "    self._validate_paths_or_fail(raw_uri, recursive)\n",
      "  File \"/Users/jinasong/Work/MVP/dsub/dsub_libs/lib/python2.7/site-packages/dsub/lib/param_util.py\", line 275, in _validate_paths_or_fail\n",
      "    'reference a filename or wildcard: %s' % uri)\n",
      "ValueError: Input or output values that are not recursive must reference a filename or wildcard: gs://gbsc-gcp-project-mvp-group/for-jina/dsub/fastqc-bam/fastqc/objects/\n"
     ]
    },
    {
     "ename": "",
     "evalue": "1",
     "output_type": "error",
     "traceback": []
    }
   ],
   "source": []
  }
 ],
 "metadata": {
  "kernelspec": {
   "display_name": "Bash",
   "language": "bash",
   "name": "bash"
  },
  "language_info": {
   "codemirror_mode": "shell",
   "file_extension": ".sh",
   "mimetype": "text/x-sh",
   "name": "bash"
  }
 },
 "nbformat": 4,
 "nbformat_minor": 2
}
