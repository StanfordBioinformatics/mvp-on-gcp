{
 "cells": [
  {
   "cell_type": "markdown",
   "metadata": {},
   "source": [
    "# vcfstats\n",
    "# What does this do?\n",
    "\n",
    "### Run rtg-tools vcfstats\n",
    "- Get list of all variants.gvcf.gz files\n",
    "- Get list of all rtg_vcfstats.txt files\n",
    "- Convert each to lists of sample IDs\n",
    "- Compare lists to find samples that are missing rtg_vcfstats.txt files\n",
    "- Use make-batch-tsv-from-input-sample.py to generate dsub task file\n",
    "- Run dsub to generate missing rtg_vcfstats.txt files\n",
    "\n",
    "### Convert vcfstats result files to CSV format\n",
    "- Get list of all rtg_vcfstats.txt files\n",
    "- Get list of all rtg_vcfstats.txt.csv files\n",
    "- \n",
    "\n",
    "### Concatenate CSV Files"
   ]
  },
  {
   "cell_type": "markdown",
   "metadata": {},
   "source": [
    "# Code"
   ]
  },
  {
   "cell_type": "markdown",
   "metadata": {},
   "source": [
    "## 0. Check that environment variables have been loaded correctly"
   ]
  },
  {
   "cell_type": "markdown",
   "metadata": {},
   "source": [
    "Environment variables are imported from the mvp-profile.sh file. If this echo command does not return anything, try sourcing it from the command console. If any of the values are incorrect, change them in mvp-profile.sh, save it, and source it again."
   ]
  },
  {
   "cell_type": "code",
   "execution_count": null,
   "metadata": {},
   "outputs": [],
   "source": [
    "# source mvp_profile.sh\n",
    "echo \"Date stamp: ${date_stamp}\"\n",
    "echo \"Home directory: ${mvp_hub}\"\n",
    "echo \"Project: ${mvp_project}\"\n",
    "echo \"Bucket: ${mvp_bucket}\"\n",
    "echo \"Zone: ${mvp_zone}\""
   ]
  },
  {
   "cell_type": "markdown",
   "metadata": {},
   "source": [
    "## 1. Run rtg-tools vcfstats"
   ]
  },
  {
   "cell_type": "markdown",
   "metadata": {},
   "source": [
    "#### Create file accounting directory it doesn't already exist"
   ]
  },
  {
   "cell_type": "code",
   "execution_count": null,
   "metadata": {},
   "outputs": [],
   "source": [
    "mkdir -p ${mvp_hub}/vcfstats/file-accounting/${date_stamp}"
   ]
  },
  {
   "cell_type": "markdown",
   "metadata": {},
   "source": [
    "#### Get list of sample IDs for gvcf files that already exist on Google Cloud Storage"
   ]
  },
  {
   "cell_type": "code",
   "execution_count": null,
   "metadata": {},
   "outputs": [],
   "source": [
    "accounting_dir=\"${mvp_hub}/vcfstats/file-accounting/${date_stamp}\"\n",
    "\n",
    "gsutil ls gs://${mvp_bucket}/data/bina-deliverables/*/*/VariantCalling/variants.gvcf.gz \\\n",
    "    > ${accounting_dir}/gs-bina-gvcf-${date_stamp}.txt\n",
    "cut -d'/' -f6 ${mvp_hub}/vcfstats/file-accounting/${date_stamp}/gs-bina-gvcf-${date_stamp}.txt \\\n",
    "    > ${accounting_dir}/gs-bina-gvcf-sample-ids-${date_stamp}.txt"
   ]
  },
  {
   "cell_type": "markdown",
   "metadata": {},
   "source": [
    "#### Get list sample IDs for vcfstats files that already exist on Google Cloud Storage"
   ]
  },
  {
   "cell_type": "code",
   "execution_count": null,
   "metadata": {},
   "outputs": [],
   "source": [
    "accounting_dir=\"${mvp_hub}/vcfstats/file-accounting/${date_stamp}\"\n",
    "\n",
    "gsutil ls gs://${mvp_bucket}/dsub/vcfstats/rtg-tools/objects/*_rtg_vcfstats.txt \\\n",
    "    > ${accounting_dir}/gs-bina-vcfstats-rtg-${date_stamp}.txt\n",
    "cut -d '/' -f8 ${accounting_dir}/gs-bina-vcfstats-rtg-${date_stamp}.txt \\\n",
    "    | cut -d'_' -f1 > ${accounting_dir}/gs-bina-vcfstats-rtg-sample-ids-${date_stamp}.txt"
   ]
  },
  {
   "cell_type": "markdown",
   "metadata": {},
   "source": [
    "#### Get difference between lists of sample IDs to find out which samples are missing vcfstats files"
   ]
  },
  {
   "cell_type": "code",
   "execution_count": 1,
   "metadata": {},
   "outputs": [
    {
     "ename": "",
     "evalue": "1",
     "output_type": "error",
     "traceback": []
    }
   ],
   "source": [
    "accounting_dir=\"${mvp_hub}/vcfstats/file-accounting/${date_stamp}\"\n",
    "\n",
    "diff --new-line-format=\"\" --unchanged-line-format \"\" \\\n",
    "    <(sort ${accounting_dir}/gs-bina-gvcf-sample-ids-${date_stamp}.txt) \\\n",
    "    <(sort ${accounting_dir}/gs-bina-vcfstats-rtg-sample-ids-${date_stamp}.txt) \\\n",
    "    > ${accounting_dir}/gs-bina-vcfstats-rtg-missing-sample-ids-${date_stamp}.txt\n",
    "grep -F -f ${accounting_dir}/gs-bina-vcfstats-rtg-missing-sample-ids-${date_stamp}.txt \\\n",
    "    ${accounting_dir}/gs-bina-gvcf-${date_stamp} \\\n",
    "    > ${accounting_dir}/gs-bina-vcfstats-rtg-missing-${date_stamp}.txt"
   ]
  },
  {
   "cell_type": "markdown",
   "metadata": {},
   "source": [
    "#### Create dsub TSV task file to generate missing vcfstats files"
   ]
  },
  {
   "cell_type": "code",
   "execution_count": null,
   "metadata": {},
   "outputs": [],
   "source": [
    "${mvp_hub}/bin/make-batch-tsv-from-input-sample.py \\\n",
    "    -i ${mvp_hub}/vcfstats/file_accounting/${date_stamp}/gs-bina-vcfstats-rtg-missing-${date_stamp}.txt \\\n",
    "    -t ${mvp_hub}/vcfstats/dsub-inputs/rtg-tools/gs-bina-vcfstats-rtg-missing-${date_stamp}.tsv \\\n",
    "    -o gs://${mvp_bucket}/dsub/vcfstats/rtg-tools/objects \\\n",
    "    -s rtg_vcfstats.txt"
   ]
  },
  {
   "cell_type": "markdown",
   "metadata": {},
   "source": [
    "#### Run RTG vcfstats dsub tasks"
   ]
  },
  {
   "cell_type": "code",
   "execution_count": null,
   "metadata": {},
   "outputs": [],
   "source": [
    "dsub \\\n",
    "    --zones \"${mvp_region}\" \\\n",
    "    --project ${mvp_project} \\\n",
    "    --logging gs://${mvp_bucket}/dsub/vcfstats/rtg-tools/logs/${date_stamp} \\\n",
    "    --image gcr.io/${mvp_project}/rtg-tools:1.0 \\\n",
    "    --command 'rtg vcfstats ${INPUT} > ${OUTPUT}' \\\n",
    "    --tasks ${mvp_hub}/vcfstats/dsub-inputs/rtg-tools/gs-bina-vcfstats-rtg-missing-${date_stamp}.tsv ${dsub_range} \\\n",
    "    #--dry-run"
   ]
  },
  {
   "cell_type": "markdown",
   "metadata": {},
   "source": [
    "## 2. Convert vcfstats result files to CSV format"
   ]
  },
  {
   "cell_type": "markdown",
   "metadata": {},
   "source": [
    "#### Get list of sample IDs for vcfstats files that already exist on Google Cloud Storage"
   ]
  },
  {
   "cell_type": "code",
   "execution_count": 2,
   "metadata": {},
   "outputs": [
    {
     "name": "stdout",
     "output_type": "stream",
     "text": []
    }
   ],
   "source": [
    "accounting_dir=\"${mvp_hub}/vcfstats/file-accounting/${date_stamp}\"\n",
    "\n",
    "gsutil ls gs://${mvp_bucket}/dsub/vcfstats/rtg-tools/objects/*_rtg_vcfstats.txt \\\n",
    "    > ${accounting_dir}/gs-bina-vcfstats-rtg-${date_stamp}.txt\n",
    "cut -d'/' -f8 ${accounting_dir}/gs-bina-vcfstats-rtg-${date_stamp}.txt \\\n",
    "    | cut -d'_' -f1 > ${accounting_dir}/gs-bina-vcfstats-rtg-sample-ids-${date_stamp}.txt"
   ]
  },
  {
   "cell_type": "markdown",
   "metadata": {},
   "source": [
    "#### Get list of sample IDs for vcfstats CSV files that already exist on Google Cloud Storage"
   ]
  },
  {
   "cell_type": "code",
   "execution_count": null,
   "metadata": {},
   "outputs": [],
   "source": [
    "accounting_dir=\"${mvp_hub}/vcfstats/file-accounting/${date_stamp}\"\n",
    "\n",
    "gsutil ls gs://${mvp_bucket}/dsub/vcfstats/text-to-table/objects/*_rtg_vcfstats.txt.csv \\\n",
    "    > ${accounting_dir}/gs-bina-vcfstats-csv-${date_stamp}.txt\n",
    "cut -d'/' -f8 ${accounting_dir}/gs-bina-vcfstats-csv-${date_stamp}.txt \\\n",
    "    | cut -d'_' -f1 > ${accounting_dir}/gs-bina-vcfstats-csv-sample-ids-${date_stamp}.txt"
   ]
  },
  {
   "cell_type": "markdown",
   "metadata": {},
   "source": [
    "#### Get difference between lists of sample IDs to find out which samples are missing vcfstats files"
   ]
  },
  {
   "cell_type": "code",
   "execution_count": null,
   "metadata": {},
   "outputs": [],
   "source": [
    "accounting_dir=\"${mvp_hub}/vcfstats/file-accounting/${date_stamp}\"\n",
    "\n",
    "diff \\\n",
    "    --new-line-format=\"\" \\\n",
    "    --unchanged-line-format \"\" \\\n",
    "    <(sort ${accounting_dir}/gs-bina-vcfstats-rtg-sample-ids-${date_stamp}.txt) \\\n",
    "    <(sort ${accounting_dir}/gs-bina-vcfstats-csv-sample-ids-${date_stamp}.txt) \\\n",
    "    > ${accounting_dir}/gs-bina-vcfstats-csv-sample-ids-missing-${date_stamp}.txt\n",
    "grep -F -f \\\n",
    "    ${accounting_dir}/gs-bina-vcfstats-csv-sample-ids-missing-${date_stamp}.txt \\\n",
    "    ${accounting_dir}/gs-bina-vcfstats-rtg-${date_stamp}.txt \\\n",
    "    > ${accounting_dir}/gs-bina-vcfstats-csv-missing-${date_stamp}.txt"
   ]
  },
  {
   "cell_type": "markdown",
   "metadata": {},
   "source": [
    "#### Convert file list to dsub TSV files"
   ]
  },
  {
   "cell_type": "code",
   "execution_count": null,
   "metadata": {},
   "outputs": [],
   "source": [
    "${mvp_hub}/bin/make-batch-tsv-from-input-file.py \\\n",
    "    -i ${mvp_hub}/vcfstats/file-accounting/${date_stamp}/gs-bina-vcfstats-csv-missing-${date_stamp}.txt \\\n",
    "    -t ${mvp_hub}/vcfstats/dsub-inputs/text-to-table/gs-bina-vcfstats-csv-missing-${date_stamp}.tsv \\\n",
    "    -o gs://${mvp_bucket}/dsub/vcfstats/text-to-table/objects \\\n",
    "    -s csv \\\n",
    "    -c rtg_vcfstats \\\n",
    "    -e rtg-vcfstats-${date_stamp}"
   ]
  },
  {
   "cell_type": "markdown",
   "metadata": {},
   "source": [
    "#### Run dsub task"
   ]
  },
  {
   "cell_type": "code",
   "execution_count": null,
   "metadata": {},
   "outputs": [],
   "source": [
    "dsub \\\n",
    "    --zones ${mvp_region} \\\n",
    "    --project ${mvp_project} \\\n",
    "    --logging gs://${mvp_bucket}/dsub/vcfstats/text-to-table/logs/${date_stamp} \\\n",
    "    --image gcr.io/gbsc-gcp-project-mvp/text-to-table:0.2.0 \\\n",
    "    --command 'text2table -s ${SCHEMA} -o ${OUTPUT} -v series=${SERIES},sample=${SAMPLE_ID} ${INPUT}' \\\n",
    "    --tasks ${mvp_hub}/vcfstats/dsub-inputs/text-to-table/gs-bina-vcfstats-csv-missing-${date_stamp}.tsv ${dsub_range} \\\n",
    "    #--dry-run"
   ]
  },
  {
   "cell_type": "markdown",
   "metadata": {},
   "source": [
    "## 3. Concatenate CSV Files"
   ]
  },
  {
   "cell_type": "markdown",
   "metadata": {},
   "source": [
    "#### Get new list of completed results files"
   ]
  },
  {
   "cell_type": "code",
   "execution_count": null,
   "metadata": {},
   "outputs": [],
   "source": [
    "accounting_dir=\"${mvp_hub}/vcfstats/file-accounting/${date_stamp}\"\n",
    "\n",
    "gsutil ls gs://${mvp_bucket}/dsub/vcfstats/text-to-table/objects/*_rtg_vcfstats.txt.csv \\\n",
    "    > ${accounting_dir}/gs-bina-vcfstats-csv-${date_stamp}.txt"
   ]
  },
  {
   "cell_type": "markdown",
   "metadata": {},
   "source": [
    "#### Run dsub task"
   ]
  },
  {
   "cell_type": "code",
   "execution_count": null,
   "metadata": {},
   "outputs": [],
   "source": [
    "dsub \\\n",
    "    --zones ${mvp_region} \\\n",
    "    --project ${mvp_project} \\\n",
    "    --logging gs://${mvp_bucket}/dsub/vcfstats/concat/logs/${date_stamp} \\\n",
    "    --image gcr.io/gbsc-gcp-project-mvp/text-to-table:0.2.0 \\\n",
    "    --disk-size 100 \\\n",
    "    --script ${mvp_hub}/vcfstats/dsub-scripts/text-to-table.sh \\\n",
    "    --input INPUT_FILES=gs://${mvp_bucket}/dsub/vcfstats/text-to-table/objects/*_vcfstats.txt.csv \\\n",
    "    --output CONCAT_FILE=gs://${mvp_bucket}/dsub/vcfstats/concat/concat_vcfstats.txt.csv \\\n",
    "    --env SCHEMA=rtg_vcfstats \\\n",
    "    --env SERIES=vcfstats-${date_stamp}"
   ]
  }
 ],
 "metadata": {
  "kernelspec": {
   "display_name": "Bash",
   "language": "bash",
   "name": "bash"
  },
  "language_info": {
   "codemirror_mode": "shell",
   "file_extension": ".sh",
   "mimetype": "text/x-sh",
   "name": "bash"
  }
 },
 "nbformat": 4,
 "nbformat_minor": 2
}
