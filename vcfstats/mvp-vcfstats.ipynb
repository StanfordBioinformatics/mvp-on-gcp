{
 "cells": [
  {
   "cell_type": "markdown",
   "metadata": {},
   "source": [
    "# Vcfstats\n",
    "# What does this do?\n",
    "\n",
    "### Run rtg-tools vcfstats\n",
    "- Get list of all variants.gvcf.gz files\n",
    "- Get list of all rtg_vcfstats.txt files\n",
    "- Convert each to lists of sample IDs\n",
    "- Compare lists to find samples that are missing rtg_vcfstats.txt files\n",
    "- Use make-batch-tsv-from-input-sample.py to generate dsub task file\n",
    "- Run dsub to generate missing rtg_vcfstats.txt files\n",
    "\n",
    "### Convert vcfstats result files to CSV format\n",
    "- Get list of all rtg_vcfstats.txt files\n",
    "- Get list of all rtg_vcfstats.txt.csv files\n",
    "- Convert each to lists of sample IDs\n",
    "- Compare lists to find samples that are missing rtg_vcfstats.txt.csv files\n",
    "- Use make-batch-tsv-from-input-file.py to generate dsub task file\n",
    "- Run dsub to generate missing rtg_vcfstats.txt.csv files\n",
    "\n",
    "### Concatenate CSV Files\n",
    "- Get list of all rtg_vcfstats.txt.csv files\n",
    "- Run dsub to concatenate all rtg_vcfstats.txt.csv files"
   ]
  },
  {
   "cell_type": "markdown",
   "metadata": {},
   "source": [
    "# Code"
   ]
  },
  {
   "cell_type": "markdown",
   "metadata": {},
   "source": [
    "## 0. Check that environment variables have been loaded correctly"
   ]
  },
  {
   "cell_type": "markdown",
   "metadata": {},
   "source": [
    "Environment variables are imported from the mvp-profile.sh file. If this echo command does not return anything, try sourcing it from the command console. If any of the values are incorrect, change them in mvp-profile.sh, save it, and source it again."
   ]
  },
  {
   "cell_type": "code",
   "execution_count": 1,
   "metadata": {
    "scrolled": true
   },
   "outputs": [
    {
     "name": "stdout",
     "output_type": "stream",
     "text": [
      "Date stamp: 20180601\n",
      "Home directory: /Users/jinasong/Work/MVP/mvp-on-gcp\n",
      "Project: gbsc-gcp-project-mvp\n",
      "Bucket: gbsc-gcp-project-mvp-group/for-jina\n",
      "Zone: us-*\n"
     ]
    }
   ],
   "source": [
    "echo \"Date stamp: ${date_stamp}\"\n",
    "echo \"Home directory: ${mvp_hub}\"\n",
    "echo \"Project: ${mvp_project}\"\n",
    "echo \"Bucket: ${mvp_bucket}\"\n",
    "echo \"Zone: ${mvp_zone}\""
   ]
  },
  {
   "cell_type": "markdown",
   "metadata": {},
   "source": [
    "# 1. Run rtg-tools vcfstats"
   ]
  },
  {
   "cell_type": "markdown",
   "metadata": {},
   "source": [
    "#### Create file accounting directory it doesn't already exist"
   ]
  },
  {
   "cell_type": "code",
   "execution_count": 3,
   "metadata": {},
   "outputs": [],
   "source": [
    "accounting_dir=\"${mvp_hub}/vcfstats/file-accounting/${date_stamp}\"\n",
    "mkdir -p ${accounting_dir}\n",
    "dsub_inputs_dir=\"${mvp_hub}/vcfstats/dsub-inputs\"\n",
    "mkdir -p ${dsub_inputs_dir}"
   ]
  },
  {
   "cell_type": "markdown",
   "metadata": {},
   "source": [
    "#### Get list of sample IDs for gvcf files that already exist on Google Cloud Storage"
   ]
  },
  {
   "cell_type": "code",
   "execution_count": 5,
   "metadata": {},
   "outputs": [],
   "source": [
    "gsutil ls gs://${mvp_bucket}/*/Variants/*.vcf.gz \\\n",
    "    > ${accounting_dir}/gs-gvcf-${date_stamp}.txt\n",
    "    \n",
    "cut -d'/' -f5 ${mvp_hub}/vcfstats/file-accounting/${date_stamp}/gs-gvcf-${date_stamp}.txt \\\n",
    "    > ${accounting_dir}/gs-gvcf-sample-ids-${date_stamp}.txt"
   ]
  },
  {
   "cell_type": "markdown",
   "metadata": {},
   "source": [
    "#### Get list sample IDs for vcfstats files that already exist on Google Cloud Storage"
   ]
  },
  {
   "cell_type": "code",
   "execution_count": 6,
   "metadata": {},
   "outputs": [
    {
     "name": "stdout",
     "output_type": "stream",
     "text": [
      "CommandException: One or more URLs matched no objects.\n"
     ]
    }
   ],
   "source": [
    "gsutil ls gs://${mvp_bucket}/dsub/vcfstats/rtg-tools/objects/*_rtg_vcfstats.txt \\\n",
    "    > ${accounting_dir}/gs-vcfstats-rtg-${date_stamp}.txt\n",
    "cut -d '/' -f8 ${accounting_dir}/gs-vcfstats-rtg-${date_stamp}.txt \\ # Check '-f8' parameter \n",
    "    | cut -d'_' -f1 > ${accounting_dir}/gs-vcfstats-rtg-sample-ids-${date_stamp}.txt"
   ]
  },
  {
   "cell_type": "markdown",
   "metadata": {},
   "source": [
    "#### Get difference between lists of sample IDs to find out which samples are missing vcfstats files"
   ]
  },
  {
   "cell_type": "code",
   "execution_count": 7,
   "metadata": {},
   "outputs": [],
   "source": [
    "diff --new-line-format=\"\" --unchanged-line-format \"\" \\\n",
    "    <(sort ${accounting_dir}/gs-gvcf-sample-ids-${date_stamp}.txt) \\\n",
    "    <(sort ${accounting_dir}/gs-vcfstats-rtg-sample-ids-${date_stamp}.txt) \\\n",
    "    > ${accounting_dir}/gs-vcfstats-rtg-missing-sample-ids-${date_stamp}.txt\n",
    "grep -F \\\n",
    "    -f ${accounting_dir}/gs-vcfstats-rtg-missing-sample-ids-${date_stamp}.txt \\\n",
    "    ${accounting_dir}/gs-gvcf-${date_stamp}.txt \\\n",
    "    > ${accounting_dir}/gs-vcfstats-rtg-missing-${date_stamp}.txt"
   ]
  },
  {
   "cell_type": "markdown",
   "metadata": {},
   "source": [
    "#### Create dsub TSV task file to generate missing vcfstats files"
   ]
  },
  {
   "cell_type": "code",
   "execution_count": 8,
   "metadata": {},
   "outputs": [],
   "source": [
    "${mvp_hub}/bin/make-batch-tsv-from-input-sample.py \\\n",
    "    -i ${accounting_dir}/gs-vcfstats-rtg-missing-${date_stamp}.txt \\\n",
    "    -t ${dsub_inputs_dir}/rtg-tools/gs-vcfstats-rtg-missing-${date_stamp}.tsv \\\n",
    "    -o gs://${mvp_bucket}/dsub/vcfstats/rtg-tools/objects \\\n",
    "    -s rtg_vcfstats.txt"
   ]
  },
  {
   "cell_type": "markdown",
   "metadata": {},
   "source": [
    "#### Run RTG vcfstats dsub tasks"
   ]
  },
  {
   "cell_type": "markdown",
   "metadata": {},
   "source": [
    "#### Get list of sample IDs for vcfstats CSV files that already exist on Google Cloud Storage"
   ]
  },
  {
   "cell_type": "code",
   "execution_count": 9,
   "metadata": {},
   "outputs": [
    {
     "name": "stdout",
     "output_type": "stream",
     "text": [
      "Job: rtg--jinasong--180601-150728-50\n",
      "Launched job-id: rtg--jinasong--180601-150728-50\n",
      "1 task(s)\n",
      "To check the status, run:\n",
      "  dstat --project gbsc-gcp-project-mvp --jobs 'rtg--jinasong--180601-150728-50' --status '*'\n",
      "To cancel the job, run:\n",
      "  ddel --project gbsc-gcp-project-mvp --jobs 'rtg--jinasong--180601-150728-50'\n",
      "rtg--jinasong--180601-150728-50\n"
     ]
    }
   ],
   "source": [
    "dsub \\\n",
    "    --zones \"${mvp_zone}\" \\\n",
    "    --project ${mvp_project} \\\n",
    "    --logging gs://${mvp_bucket}/dsub/vcfstats/rtg-tools/logs/${date_stamp} \\\n",
    "    --image gcr.io/${mvp_project}/rtg-tools:1.0 \\\n",
    "    --command 'rtg vcfstats ${INPUT} > ${OUTPUT}' \\\n",
    "    --tasks ${dsub_inputs_dir}/rtg-tools/gs-vcfstats-rtg-missing-${date_stamp}.tsv "
   ]
  },
  {
   "cell_type": "markdown",
   "metadata": {},
   "source": [
    "## 2. Convert vcfstats result files to CSV format"
   ]
  },
  {
   "cell_type": "markdown",
   "metadata": {},
   "source": [
    "#### Get list of sample IDs for vcfstats files that already exist on Google Cloud Storage"
   ]
  },
  {
   "cell_type": "code",
   "execution_count": 10,
   "metadata": {},
   "outputs": [],
   "source": [
    "gsutil ls gs://${mvp_bucket}/dsub/vcfstats/rtg-tools/objects/*_rtg_vcfstats.txt \\\n",
    "    > ${accounting_dir}/gs-vcfstats-rtg-${date_stamp}.txt\n",
    "cut -d'/' -f9 ${accounting_dir}/gs-vcfstats-rtg-${date_stamp}.txt \\\n",
    "    | cut -d'_' -f1 > ${accounting_dir}/gs-vcfstats-rtg-sample-ids-${date_stamp}.txt"
   ]
  },
  {
   "cell_type": "markdown",
   "metadata": {},
   "source": [
    "#### Get list of sample IDs for vcfstats CSV files that already exist on Google Cloud Storage"
   ]
  },
  {
   "cell_type": "code",
   "execution_count": 11,
   "metadata": {},
   "outputs": [
    {
     "name": "stdout",
     "output_type": "stream",
     "text": [
      "CommandException: One or more URLs matched no objects.\n"
     ]
    }
   ],
   "source": [
    "gsutil ls gs://${mvp_bucket}/dsub/vcfstats/text-to-table/objects/*_rtg_vcfstats.txt.csv \\\n",
    "    > ${accounting_dir}/gs-vcfstats-csv-${date_stamp}.txt\n",
    "cut -d'/' -f8 ${accounting_dir}/gs-vcfstats-csv-${date_stamp}.txt \\\n",
    "    | cut -d'_' -f1 > ${accounting_dir}/gs-vcfstats-csv-sample-ids-${date_stamp}.txt"
   ]
  },
  {
   "cell_type": "markdown",
   "metadata": {},
   "source": [
    "#### Get difference between lists of sample IDs to find out which samples are missing vcfstats files"
   ]
  },
  {
   "cell_type": "code",
   "execution_count": 12,
   "metadata": {},
   "outputs": [],
   "source": [
    "diff \\\n",
    "    --new-line-format=\"\" \\\n",
    "    --unchanged-line-format \"\" \\\n",
    "    <(sort ${accounting_dir}/gs-vcfstats-rtg-sample-ids-${date_stamp}.txt) \\\n",
    "    <(sort ${accounting_dir}/gs-vcfstats-csv-sample-ids-${date_stamp}.txt) \\\n",
    "    > ${accounting_dir}/gs-vcfstats-csv-sample-ids-missing-${date_stamp}.txt\n",
    "grep -F -f \\\n",
    "    ${accounting_dir}/gs-vcfstats-csv-sample-ids-missing-${date_stamp}.txt \\\n",
    "    ${accounting_dir}/gs-vcfstats-rtg-${date_stamp}.txt \\\n",
    "    > ${accounting_dir}/gs-vcfstats-csv-missing-${date_stamp}.txt"
   ]
  },
  {
   "cell_type": "markdown",
   "metadata": {},
   "source": [
    "#### Convert file list to dsub TSV files"
   ]
  },
  {
   "cell_type": "code",
   "execution_count": 13,
   "metadata": {},
   "outputs": [],
   "source": [
    "${mvp_hub}/bin/make-batch-tsv-from-input-file.py \\\n",
    "    -i ${accounting_dir}/gs-vcfstats-csv-missing-${date_stamp}.txt \\\n",
    "    -t ${dsub_inputs_dir}/text-to-table/gs-vcfstats-csv-missing-${date_stamp}.tsv \\\n",
    "    -o gs://${mvp_bucket}/dsub/vcfstats/text-to-table/objects \\\n",
    "    -s csv \\\n",
    "    -c rtg_vcfstats \\\n",
    "    -e rtg-vcfstats-${date_stamp}"
   ]
  },
  {
   "cell_type": "markdown",
   "metadata": {},
   "source": [
    "#### Run dsub task"
   ]
  },
  {
   "cell_type": "code",
   "execution_count": 1,
   "metadata": {},
   "outputs": [
    {
     "name": "stdout",
     "output_type": "stream",
     "text": [
      "Job: text2table--jinasong--180601-152201-48\n",
      "Launched job-id: text2table--jinasong--180601-152201-48\n",
      "1 task(s)\n",
      "To check the status, run:\n",
      "  dstat --project gbsc-gcp-project-mvp --jobs 'text2table--jinasong--180601-152201-48' --status '*'\n",
      "To cancel the job, run:\n",
      "  ddel --project gbsc-gcp-project-mvp --jobs 'text2table--jinasong--180601-152201-48'\n",
      "text2table--jinasong--180601-152201-48\n"
     ]
    }
   ],
   "source": [
    "dsub \\\n",
    "    --zones ${mvp_zone} \\\n",
    "    --project ${mvp_project} \\\n",
    "    --logging gs://${mvp_bucket}/dsub/vcfstats/text-to-table/logs/${date_stamp} \\\n",
    "    --image gcr.io/${mvp_project}/text-to-table:0.2.0 \\\n",
    "    --command 'text2table -s ${SCHEMA} -o ${OUTPUT} -v series=${SERIES},sample=${SAMPLE_ID} ${INPUT}' \\\n",
    "    --tasks ${mvp_hub}/vcfstats/dsub-inputs/text-to-table/gs-vcfstats-csv-missing-${date_stamp}.tsv"
   ]
  },
  {
   "cell_type": "markdown",
   "metadata": {},
   "source": [
    "## 3. Concatenate CSV Files"
   ]
  },
  {
   "cell_type": "markdown",
   "metadata": {},
   "source": [
    "#### Get new list of completed results files"
   ]
  },
  {
   "cell_type": "code",
   "execution_count": 4,
   "metadata": {},
   "outputs": [],
   "source": [
    "gsutil ls gs://${mvp_bucket}/dsub/vcfstats/text-to-table/objects/*_rtg_vcfstats.txt.csv \\\n",
    "    > ${accounting_dir}/gs-vcfstats-csv-${date_stamp}.txt"
   ]
  },
  {
   "cell_type": "markdown",
   "metadata": {},
   "source": [
    "#### Run dsub task"
   ]
  },
  {
   "cell_type": "code",
   "execution_count": 6,
   "metadata": {},
   "outputs": [
    {
     "name": "stdout",
     "output_type": "stream",
     "text": [
      "Job: cat--jinasong--180601-160157-53\n",
      "Launched job-id: cat--jinasong--180601-160157-53\n",
      "To check the status, run:\n",
      "  dstat --project gbsc-gcp-project-mvp --jobs 'cat--jinasong--180601-160157-53' --status '*'\n",
      "To cancel the job, run:\n",
      "  ddel --project gbsc-gcp-project-mvp --jobs 'cat--jinasong--180601-160157-53'\n",
      "cat--jinasong--180601-160157-53\n"
     ]
    }
   ],
   "source": [
    "dsub \\\n",
    "    --zones ${mvp_zone} \\\n",
    "    --project ${mvp_project} \\\n",
    "    --logging gs://${mvp_bucket}/dsub/vcfstats/concat/logs/${date_stamp} \\\n",
    "    --image gcr.io/${mvp_project}/text-to-table:0.2.0 \\\n",
    "    --disk-size 100 \\\n",
    "    --input INPUT_FILES=gs://${mvp_bucket}/dsub/vcfstats/text-to-table/objects/*_vcfstats.txt.csv \\\n",
    "    --output CONCAT_FILE=gs://${mvp_bucket}/dsub/vcfstats/concat/objects/concat_vcfstats.txt.csv \\\n",
    "    --command 'cat ${INPUT_FILES} > ${CONCAT_FILE}' \\\n",
    "    #--dry-run\n",
    "    #--vars-include-wildcards \\"
   ]
  },
  {
   "cell_type": "code",
   "execution_count": null,
   "metadata": {},
   "outputs": [],
   "source": []
  }
 ],
 "metadata": {
  "kernelspec": {
   "display_name": "Bash",
   "language": "bash",
   "name": "bash"
  },
  "language_info": {
   "codemirror_mode": "shell",
   "file_extension": ".sh",
   "mimetype": "text/x-sh",
   "name": "bash"
  }
 },
 "nbformat": 4,
 "nbformat_minor": 2
}
