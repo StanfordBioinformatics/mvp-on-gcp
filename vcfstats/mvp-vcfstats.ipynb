{
 "cells": [
  {
   "cell_type": "markdown",
   "metadata": {},
   "source": [
    "# vcfstats\n",
    "## What do I need to do?\n",
    "- Get list of all variants.gvcf.gz files\n",
    "- Get list of all samples?\n",
    "- Get list of all rtg_vcfstats.txt files\n",
    "- Convert to sample lists\n",
    "- Find difference between lists\n",
    "- Use make-batch-tsv-from-input-sample.py to generate dsub batch input"
   ]
  },
  {
   "cell_type": "markdown",
   "metadata": {},
   "source": [
    "# Code"
   ]
  },
  {
   "cell_type": "markdown",
   "metadata": {},
   "source": [
    "## 0. Source MVP environment file"
   ]
  },
  {
   "cell_type": "code",
   "execution_count": 1,
   "metadata": {},
   "outputs": [],
   "source": [
    "source ../mvp-profile.sh"
   ]
  },
  {
   "cell_type": "markdown",
   "metadata": {},
   "source": [
    "## 1. Run rtg-tools vcfstats"
   ]
  },
  {
   "cell_type": "markdown",
   "metadata": {},
   "source": [
    "#### Get list of gvcf files & sample IDs on Google Cloud Storage"
   ]
  },
  {
   "cell_type": "code",
   "execution_count": null,
   "metadata": {},
   "outputs": [],
   "source": [
    "cd ${mvp_hub}/vcfstats/file-accounting/${date_stamp}\n",
    "gsutil ls gs://${mvp_bucket}/data/bina-deliverables/*/*/VariantCalling/variants.gvcf.gz \\\n",
    "    > gs-bina-gvcf-${date_stamp}.txt\n",
    "cut -d'/' -f6 gs-bina-gvcf-${date_stamp}.txt \\\n",
    "    > gs-bina-gvcf-sample-ids-${date_stamp}.txt"
   ]
  },
  {
   "cell_type": "markdown",
   "metadata": {},
   "source": [
    "#### Get list of gvcf files that need vcfstats"
   ]
  },
  {
   "cell_type": "code",
   "execution_count": null,
   "metadata": {},
   "outputs": [],
   "source": [
    "gsutil ls gs://${mvp_bucket}/dsub/vcfstats/rtg-tools/objects/*_rtg_vcfstats.txt \\\n",
    "    > gs-bina-vcfstats-rtg-${date_stamp}.txt\n",
    "cut -d '/' -f8 gs-bina-vcfstats-rtg-${date_stamp}.txt \\\n",
    "    | cut -d'_' -f1 > gs-bina-vcfstats-rtg-sample-ids-${date_stamp}.txt\n",
    "diff --new-line-format=\"\" --unchanged-line-format \"\" \\\n",
    "    <(sort gs-bina-gvcf-sample-ids-${date_stamp}.txt) \\\n",
    "    <(sort gs-bina-vcfstats-rtg-sample-ids-${date_stamp}.txt) \\\n",
    "    > gs-bina-vcfstats-rtg-missing-sample-ids-${date_stamp}.txt\n",
    "grep -F -f gs-bina-vcfstats-rtg-missing-sample-ids-${date_stamp}.txt gs-bina-gvcf-${date_stamp} > gs-bina-vcfstats-rtg-missing-${date_stamp}.txt"
   ]
  },
  {
   "cell_type": "markdown",
   "metadata": {},
   "source": [
    "#### Create dsub TSV task file to generate missing vcfstats files"
   ]
  },
  {
   "cell_type": "code",
   "execution_count": null,
   "metadata": {},
   "outputs": [],
   "source": [
    "${mvp_hub}/bin/make-batch-tsv-from-input-sample.py \\\n",
    "    -i ${mvp_hub}/vcfstats/file_accounting/${date_stamp}/gs-bina-vcfstats-rtg-missing-${date_stamp}.txt \\\n",
    "    -t ${mvp_hub}/vcfstats/dsub-inputs/rtg-tools/gs-bina-vcfstats-rtg-missing-${date_stamp}.tsv \\\n",
    "    -o gs://${mvp_bucket}/dsub/vcfstats/rtg-tools/objects \\\n",
    "    -s rtg_vcfstats.txt"
   ]
  },
  {
   "cell_type": "markdown",
   "metadata": {},
   "source": [
    "#### Run dsub tasks"
   ]
  },
  {
   "cell_type": "code",
   "execution_count": null,
   "metadata": {},
   "outputs": [],
   "source": [
    "dsub \\\n",
    "    --zones \"${mvp_region}\" \\\n",
    "    --project ${mvp_project} \\\n",
    "    --logging gs://${mvp_bucket}/dsub/vcfstats/rtg-tools/logs/${date_stamp} \\\n",
    "    --image gcr.io/${mvp_project}/rtg-tools:1.0 \\\n",
    "    --command 'rtg vcfstats ${INPUT} > ${OUTPUT}' \\\n",
    "    --tasks ${mvp_hub}/vcfstats/dsub-inputs/rtg-tools/gs-bina-vcfstats-rtg-missing-${date_stamp}.tsv ${dsub_range} \\\n",
    "    #--dry-run"
   ]
  },
  {
   "cell_type": "markdown",
   "metadata": {},
   "source": [
    "## 2. Convert vcfstats result files to CSV format"
   ]
  },
  {
   "cell_type": "markdown",
   "metadata": {},
   "source": [
    "#### Get list of vcfstats files & sample IDs on Google Cloud Storage"
   ]
  },
  {
   "cell_type": "code",
   "execution_count": null,
   "metadata": {},
   "outputs": [],
   "source": [
    "mkdir -p ${mvp_hub}/vcfstats/file-accounting/${date_stamp}\n",
    "cd ${mvp_hub}/vcfstats/file-accounting/${date_stamp}\n",
    "\n",
    "gsutil ls gs://${mvp_bucket}/dsub/vcfstats/rtg-tools/objects/*_rtg_vcfstats.txt \\\n",
    "    > gs-bina-vcfstats-rtg-${date_stamp}.txt\n",
    "gsutil ls gs://${mvp_bucket}/dsub/vcfstats/text-to-table/objects/*_rtg_vcfstats.txt.csv \\\n",
    "    > gs-bina-vcfstats-csv-${date_stamp}.txt\n",
    "cut -d'/' -f8 gs-bina-vcfstats-rtg-${date_stamp}.txt \\\n",
    "    | cut -d'_' -f1 > gs-bina-vcfstats-rtg-sample-ids-${date_stamp}.txt\n",
    "cut -d'/' -f8 gs-bina-vcfstats-csv-${date_stamp}.txt \\\n",
    "    | cut -d'_' -f1 > gs-bina-vcfstats-csv-sample-ids-${date_stamp}.txt"
   ]
  },
  {
   "cell_type": "markdown",
   "metadata": {},
   "source": [
    "#### Compare sample IDs to create list of missing files"
   ]
  },
  {
   "cell_type": "code",
   "execution_count": null,
   "metadata": {},
   "outputs": [],
   "source": [
    "diff \\\n",
    "    --new-line-format=\"\" \\\n",
    "    --unchanged-line-format \"\" \\\n",
    "    <(sort gs-bina-vcfstats-rtg-sample-ids-${date_stamp}.txt) \\\n",
    "    <(sort gs-bina-vcfstats-csv-sample-ids-${date_stamp}.txt) \\\n",
    "    > gs-bina-vcfstats-csv-sample-ids-missing-${date_stamp}.txt\n",
    "grep -F -f \\\n",
    "    gs-bina-vcfstats-csv-sample-ids-missing-${date_stamp}.txt \\\n",
    "    gs-bina-vcfstats-rtg-${date_stamp}.txt \\\n",
    "    > gs-bina-vcfstats-csv-missing-${date_stamp}.txt"
   ]
  },
  {
   "cell_type": "markdown",
   "metadata": {},
   "source": [
    "#### Convert file list to dsub TSV files"
   ]
  },
  {
   "cell_type": "code",
   "execution_count": 2,
   "metadata": {},
   "outputs": [
    {
     "name": "stdout",
     "output_type": "stream",
     "text": [
      "bash: cd: bin: No such file or directory\n",
      "bash: ./make-batch-tsv-from-input-file.py: No such file or directory\n"
     ]
    },
    {
     "ename": "",
     "evalue": "127",
     "output_type": "error",
     "traceback": []
    }
   ],
   "source": [
    "${mvp_hub}/bin/make-batch-tsv-from-input-file.py \\\n",
    "    -i ${mvp_hub}/vcfstats/file-accounting/${date_stamp}/gs-bina-vcfstats-csv-missing-${date_stamp}.txt \\\n",
    "    -t ${mvp_hub}/vcfstats/dsub-inputs/text-to-table/gs-bina-vcfstats-csv-missing-${date_stamp}.tsv \\\n",
    "    -o gs://${mvp_bucket}/dsub/vcfstats/text-to-table/objects \\\n",
    "    -s csv \\\n",
    "    -c rtg_vcfstats \\\n",
    "    -e rtg-vcfstats-${date_stamp}"
   ]
  },
  {
   "cell_type": "markdown",
   "metadata": {},
   "source": [
    "#### Run dsub task"
   ]
  },
  {
   "cell_type": "code",
   "execution_count": null,
   "metadata": {},
   "outputs": [],
   "source": [
    "dsub \\\n",
    "    --zones ${mvp_region} \\\n",
    "    --project ${mvp_project} \\\n",
    "    --logging gs://${mvp_bucket}/dsub/vcfstats/text-to-table/logs/${date_stamp} \\\n",
    "    --image gcr.io/gbsc-gcp-project-mvp/text-to-table:0.2.0 \\\n",
    "    --command 'text2table -s ${SCHEMA} -o ${OUTPUT} -v series=${SERIES},sample=${SAMPLE_ID} ${INPUT}' \\\n",
    "    --tasks ../file-accounting/vcfstats/dsub-inputs/text-to-table/gs-bina-vcfstats-csv-missing-${date_stamp}.tsv ${dsub_range} \\\n",
    "    #--dry-run"
   ]
  },
  {
   "cell_type": "markdown",
   "metadata": {},
   "source": [
    "## 3. Concatenate CSV Files"
   ]
  },
  {
   "cell_type": "markdown",
   "metadata": {},
   "source": [
    "#### Get new list of completed results files"
   ]
  },
  {
   "cell_type": "code",
   "execution_count": null,
   "metadata": {},
   "outputs": [],
   "source": [
    "cd ${mvp_hub}/vcfstats/file_accounting/${date_stamp}\n",
    "gsutil ls gs://${mvp_bucket}/dsub/vcfstats/text-to-table/objects/*_rtg_vcfstats.txt.csv \\\n",
    "    > gs-bina-vcfstats-csv-${date_stamp}.txt"
   ]
  },
  {
   "cell_type": "markdown",
   "metadata": {},
   "source": [
    "#### Run dsub task"
   ]
  },
  {
   "cell_type": "code",
   "execution_count": null,
   "metadata": {},
   "outputs": [],
   "source": [
    "dsub \\\n",
    "    --zones ${mvp_region} \\\n",
    "    --project ${mvp_project} \\\n",
    "    --logging gs://${mvp_bucket}/dsub/vcfstats/concat/logs/${date_stamp} \\\n",
    "    --image gcr.io/gbsc-gcp-project-mvp/text-to-table:0.2.0 \\\n",
    "    --disk-size 100 \\\n",
    "    --script dsub-scripts/text-to-table.sh \\\n",
    "    --input INPUT_FILES=gs://${mvp_bucket}/dsub/vcfstats/text-to-table/objects/*_vcfstats.txt.csv \\\n",
    "    --output CONCAT_FILE=gs://${mvp_bucket}/dsub/vcfstats/concat/concat_vcfstats.txt.csv \\\n",
    "    --env SCHEMA=rtg_vcfstats \\\n",
    "    --env SERIES=vcfstats-${date_stamp}"
   ]
  }
 ],
 "metadata": {
  "kernelspec": {
   "display_name": "Bash",
   "language": "bash",
   "name": "bash"
  },
  "language_info": {
   "codemirror_mode": "shell",
   "file_extension": ".sh",
   "mimetype": "text/x-sh",
   "name": "bash"
  }
 },
 "nbformat": 4,
 "nbformat_minor": 2
}
