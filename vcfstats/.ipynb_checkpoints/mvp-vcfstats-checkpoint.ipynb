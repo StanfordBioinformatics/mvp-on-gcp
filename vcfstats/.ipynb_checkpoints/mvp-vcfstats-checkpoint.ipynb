{
 "cells": [
  {
   "cell_type": "markdown",
   "metadata": {},
   "source": [
    "# Vcfstats\n",
    "# What does this do?\n",
    "\n",
    "### Run rtg-tools vcfstats\n",
    "- Get list of all variants.gvcf.gz files\n",
    "- Get list of all rtg_vcfstats.txt files\n",
    "- Convert each to lists of sample IDs\n",
    "- Compare lists to find samples that are missing rtg_vcfstats.txt files\n",
    "- Use make-batch-tsv-from-input-sample.py to generate dsub task file\n",
    "- Run dsub to generate missing rtg_vcfstats.txt files\n",
    "\n",
    "### Convert vcfstats result files to CSV format\n",
    "- Get list of all rtg_vcfstats.txt files\n",
    "- Get list of all rtg_vcfstats.txt.csv files\n",
    "- Convert each to lists of sample IDs\n",
    "- Compare lists to find samples that are missing rtg_vcfstats.txt.csv files\n",
    "- Use make-batch-tsv-from-input-file.py to generate dsub task file\n",
    "- Run dsub to generate missing rtg_vcfstats.txt.csv files\n",
    "\n",
    "### Concatenate CSV Files\n",
    "- Get list of all rtg_vcfstats.txt.csv files\n",
    "- Run dsub to concatenate all rtg_vcfstats.txt.csv files"
   ]
  },
  {
   "cell_type": "markdown",
   "metadata": {},
   "source": [
    "# Code"
   ]
  },
  {
   "cell_type": "markdown",
   "metadata": {},
   "source": [
    "## 0. Check that environment variables have been loaded correctly"
   ]
  },
  {
   "cell_type": "markdown",
   "metadata": {},
   "source": [
    "Environment variables are imported from the mvp-profile.sh file. If this echo command does not return anything, try sourcing it from the command console. If any of the values are incorrect, change them in mvp-profile.sh, save it, and source it again."
   ]
  },
  {
   "cell_type": "code",
   "execution_count": 1,
   "metadata": {
    "scrolled": true
   },
   "outputs": [
    {
     "name": "stdout",
     "output_type": "stream",
     "text": [
      "Date stamp: 20180420\n",
      "Home directory: /Users/jinasong/Work/MVP/mvp-on-gcp\n",
      "Project: gbsc-gcp-lab-gbsc\n",
      "Bucket: gbsc-gcp-lab-gbsc-group/bida-gvcf-samples\n",
      "Zone: us-west1-*\n",
      "Hub: /Users/jinasong/Work/MVP/mvp-on-gcp\n"
     ]
    }
   ],
   "source": [
    "%%bash\n",
    "echo \"Date stamp: ${DATE_STAMP}\"\n",
    "echo \"Home directory: ${MVP_HUB}\"\n",
    "echo \"Project: ${MVP_PROJECT}\"\n",
    "echo \"Bucket: ${MVP_BUCKET}\"\n",
    "echo \"Zone: ${MVP_ZONE}\"\n",
    "echo \"Hub: ${MVP_HUB}\""
   ]
  },
  {
   "cell_type": "markdown",
   "metadata": {},
   "source": [
    "# 1. Run rtg-tools vcfstats"
   ]
  },
  {
   "cell_type": "markdown",
   "metadata": {},
   "source": [
    "#### Create file accounting directory it doesn't already exist"
   ]
  },
  {
   "cell_type": "code",
   "execution_count": 28,
   "metadata": {},
   "outputs": [],
   "source": [
    "%%bash\n",
    "accounting_dir=\"${MVP_HUB}/vcfstats/file-accounting/${DATE_STAMP}\"\n",
    "mkdir -p ${accounting_dir}\n",
    "\n",
    "dsub_inputs_dir=\"${MVP_HUB}/vcfstats/dsub-inputs\""
   ]
  },
  {
   "cell_type": "markdown",
   "metadata": {},
   "source": [
    "#### Get list of sample IDs for gvcf files that already exist on Google Cloud Storage"
   ]
  },
  {
   "cell_type": "code",
   "execution_count": 27,
   "metadata": {},
   "outputs": [
    {
     "name": "stdout",
     "output_type": "stream",
     "text": [
      "total 32\n",
      "-rw-r--r--  1 jinasong  staff  13757 Apr 20 11:55 mvp-vcfstats.ipynb\n",
      "drwxr-xr-x  3 jinasong  staff     96 Apr 20 11:21 file-accounting\n",
      "drwxr-xr-x  3 jinasong  staff     96 Apr 18 17:07 dsub-scripts\n",
      "\n"
     ]
    },
    {
     "name": "stderr",
     "output_type": "stream",
     "text": [
      "touch: /test.txt: Permission denied\n",
      "bash: line 11: /test.txt: Permission denied\n"
     ]
    }
   ],
   "source": [
    "######### Break from Here : Run first using bash script and Apply iPython - Jina ##########\n",
    "\n",
    "%%bash\n",
    "#gsutil ls gs://${mvp_bucket}/data/bina-deliverables/*/*/VariantCalling/variants.gvcf.gz \\\n",
    "#    > ${accounting_dir}/gs-gvcf-${date_stamp}.txt\n",
    "#cut -d'/' -f6 ${mvp_hub}/vcfstats/file-accounting/${date_stamp}/gs-gvcf-${date_stamp}.txt \\\n",
    "#    > ${accounting_dir}/gs-gvcf-sample-ids-${date_stamp}.txt\n",
    "\n",
    "#gsutil ls gs://${MVP_BUCKET}/*/*/VariantCalling/variants.gvcf.gz > ${accounting_dir}/gs-gvcf-${DATE_STAMP}.txt\n",
    "\n",
    "ls -lt ${accounting_dir}\n",
    "echo ${accounting_dir}\n",
    "touch ${accounting_dir}/test.txt\n",
    "echo \"test file create\" > ${dsub_inputs_dir}/test.txt\n",
    "\n",
    "#cut -d'/' -f6 ${MVP_HUB}/vcfstats/file-accounting/${DATA_STAMP}/gs-gvcf-${DATE_STAMP}.txt \\\n",
    "#    > ${accounting_dir}/gs-gvcf-sample-ids-${DATE_STAMP}.txt"
   ]
  },
  {
   "cell_type": "markdown",
   "metadata": {},
   "source": [
    "#### Get list sample IDs for vcfstats files that already exist on Google Cloud Storage"
   ]
  },
  {
   "cell_type": "code",
   "execution_count": null,
   "metadata": {},
   "outputs": [],
   "source": [
    "gsutil ls gs://${mvp_bucket}/dsub/vcfstats/rtg-tools/objects/*_rtg_vcfstats.txt \\\n",
    "    > ${accounting_dir}/gs-vcfstats-rtg-${date_stamp}.txt\n",
    "cut -d '/' -f8 ${accounting_dir}/gs-vcfstats-rtg-${date_stamp}.txt \\\n",
    "    | cut -d'_' -f1 > ${accounting_dir}/gs-vcfstats-rtg-sample-ids-${date_stamp}.txt"
   ]
  },
  {
   "cell_type": "markdown",
   "metadata": {},
   "source": [
    "#### Get difference between lists of sample IDs to find out which samples are missing vcfstats files"
   ]
  },
  {
   "cell_type": "code",
   "execution_count": null,
   "metadata": {},
   "outputs": [],
   "source": [
    "diff --new-line-format=\"\" --unchanged-line-format \"\" \\\n",
    "    <(sort ${accounting_dir}/gs-gvcf-sample-ids-${date_stamp}.txt) \\\n",
    "    <(sort ${accounting_dir}/gs-vcfstats-rtg-sample-ids-${date_stamp}.txt) \\\n",
    "    > ${accounting_dir}/gs-vcfstats-rtg-missing-sample-ids-${date_stamp}.txt\n",
    "grep -F \\\n",
    "    -f ${accounting_dir}/gs-vcfstats-rtg-missing-sample-ids-${date_stamp}.txt \\\n",
    "    ${accounting_dir}/gs-gvcf-${date_stamp}.txt \\\n",
    "    > ${accounting_dir}/gs-vcfstats-rtg-missing-${date_stamp}.txt"
   ]
  },
  {
   "cell_type": "markdown",
   "metadata": {},
   "source": [
    "#### Create dsub TSV task file to generate missing vcfstats files"
   ]
  },
  {
   "cell_type": "code",
   "execution_count": null,
   "metadata": {},
   "outputs": [],
   "source": [
    "${mvp_hub}/bin/make-batch-tsv-from-input-sample.py \\\n",
    "    -i ${accounting_dir}/gs-vcfstats-rtg-missing-${date_stamp}.txt \\\n",
    "    -t ${dsub_inputs_dir}/rtg-tools/gs-vcfstats-rtg-missing-${date_stamp}.tsv \\\n",
    "    -o gs://${mvp_bucket}/dsub/vcfstats/rtg-tools/objects \\\n",
    "    -s rtg_vcfstats.txt"
   ]
  },
  {
   "cell_type": "markdown",
   "metadata": {},
   "source": [
    "#### Run RTG vcfstats dsub tasks"
   ]
  },
  {
   "cell_type": "code",
   "execution_count": 2,
   "metadata": {},
   "outputs": [
    {
     "ename": "SyntaxError",
     "evalue": "invalid syntax (<ipython-input-2-71f7cf715dab>, line 1)",
     "output_type": "error",
     "traceback": [
      "\u001b[0;36m  File \u001b[0;32m\"<ipython-input-2-71f7cf715dab>\"\u001b[0;36m, line \u001b[0;32m1\u001b[0m\n\u001b[0;31m    dsub     --zones \"${mvp_zone}\"     --project ${mvp_project}     --logging gs://${mvp_bucket}/dsub/vcfstats/rtg-tools/logs/${date_stamp}     --image gcr.io/${mvp_project}/rtg-tools:1.0     --command 'rtg vcfstats ${INPUT} > ${OUTPUT}'     --tasks ${dsub_inputs_dir}/rtg-tools/gs-vcfstats-rtg-missing-${date_stamp}.tsv ${dsub_range}     --dry-run\u001b[0m\n\u001b[0m                                 ^\u001b[0m\n\u001b[0;31mSyntaxError\u001b[0m\u001b[0;31m:\u001b[0m invalid syntax\n"
     ]
    }
   ],
   "source": [
    "dsub \\\n",
    "    --zones \"${mvp_zone}\" \\\n",
    "    --project ${mvp_project} \\\n",
    "    --logging gs://${mvp_bucket}/dsub/vcfstats/rtg-tools/logs/${date_stamp} \\\n",
    "    --image gcr.io/${mvp_project}/rtg-tools:1.0 \\\n",
    "    --command 'rtg vcfstats ${INPUT} > ${OUTPUT}' \\\n",
    "    --input ${dsub_inputs_dir}/rtg-tools/gs-vcfstats-rtg-missing-${date_stamp}.tsv \n",
    "    --output ${dsub_range} \\\n",
    "    --dry-run"
   ]
  },
  {
   "cell_type": "markdown",
   "metadata": {},
   "source": [
    "## 2. Convert vcfstats result files to CSV format"
   ]
  },
  {
   "cell_type": "markdown",
   "metadata": {},
   "source": [
    "#### Get list of sample IDs for vcfstats files that already exist on Google Cloud Storage"
   ]
  },
  {
   "cell_type": "code",
   "execution_count": null,
   "metadata": {},
   "outputs": [],
   "source": [
    "gsutil ls gs://${mvp_bucket}/dsub/vcfstats/rtg-tools/objects/*_rtg_vcfstats.txt \\\n",
    "    > ${accounting_dir}/gs-vcfstats-rtg-${date_stamp}.txt\n",
    "cut -d'/' -f8 ${accounting_dir}/gs-vcfstats-rtg-${date_stamp}.txt \\\n",
    "    | cut -d'_' -f1 > ${accounting_dir}/gs-vcfstats-rtg-sample-ids-${date_stamp}.txt"
   ]
  },
  {
   "cell_type": "markdown",
   "metadata": {},
   "source": [
    "#### Get list of sample IDs for vcfstats CSV files that already exist on Google Cloud Storage"
   ]
  },
  {
   "cell_type": "code",
   "execution_count": null,
   "metadata": {},
   "outputs": [],
   "source": [
    "gsutil ls gs://${mvp_bucket}/dsub/vcfstats/text-to-table/objects/*_rtg_vcfstats.txt.csv \\\n",
    "    > ${accounting_dir}/gs-vcfstats-csv-${date_stamp}.txt\n",
    "cut -d'/' -f8 ${accounting_dir}/gs-vcfstats-csv-${date_stamp}.txt \\\n",
    "    | cut -d'_' -f1 > ${accounting_dir}/gs-vcfstats-csv-sample-ids-${date_stamp}.txt"
   ]
  },
  {
   "cell_type": "markdown",
   "metadata": {},
   "source": [
    "#### Get difference between lists of sample IDs to find out which samples are missing vcfstats files"
   ]
  },
  {
   "cell_type": "code",
   "execution_count": null,
   "metadata": {},
   "outputs": [],
   "source": [
    "diff \\\n",
    "    --new-line-format=\"\" \\\n",
    "    --unchanged-line-format \"\" \\\n",
    "    <(sort ${accounting_dir}/gs-vcfstats-rtg-sample-ids-${date_stamp}.txt) \\\n",
    "    <(sort ${accounting_dir}/gs-vcfstats-csv-sample-ids-${date_stamp}.txt) \\\n",
    "    > ${accounting_dir}/gs-vcfstats-csv-sample-ids-missing-${date_stamp}.txt\n",
    "grep -F -f \\\n",
    "    ${accounting_dir}/gs-vcfstats-csv-sample-ids-missing-${date_stamp}.txt \\\n",
    "    ${accounting_dir}/gs-vcfstats-rtg-${date_stamp}.txt \\\n",
    "    > ${accounting_dir}/gs-vcfstats-csv-missing-${date_stamp}.txt"
   ]
  },
  {
   "cell_type": "markdown",
   "metadata": {},
   "source": [
    "#### Convert file list to dsub TSV files"
   ]
  },
  {
   "cell_type": "code",
   "execution_count": null,
   "metadata": {},
   "outputs": [],
   "source": [
    "${mvp_hub}/bin/make-batch-tsv-from-input-file.py \\\n",
    "    -i ${accounting_dir}/gs-vcfstats-csv-missing-${date_stamp}.txt \\\n",
    "    -t ${dsub_inputs_dir}/text-to-table/gs-vcfstats-csv-missing-${date_stamp}.tsv \\\n",
    "    -o gs://${mvp_bucket}/dsub/vcfstats/text-to-table/objects \\\n",
    "    -s csv \\\n",
    "    -c rtg_vcfstats \\\n",
    "    -e rtg-vcfstats-${date_stamp}"
   ]
  },
  {
   "cell_type": "markdown",
   "metadata": {},
   "source": [
    "#### Run dsub task"
   ]
  },
  {
   "cell_type": "code",
   "execution_count": null,
   "metadata": {},
   "outputs": [],
   "source": [
    "dsub \\\n",
    "    --zones ${mvp_region} \\\n",
    "    --project ${mvp_project} \\\n",
    "    --logging gs://${mvp_bucket}/dsub/vcfstats/text-to-table/logs/${date_stamp} \\\n",
    "    --image gcr.io/${mvp_project}/text-to-table:0.2.0 \\\n",
    "    --command 'text2table -s ${SCHEMA} -o ${OUTPUT} -v series=${SERIES},sample=${SAMPLE_ID} ${INPUT}' \\\n",
    "    --tasks ${mvp_hub}/vcfstats/dsub-inputs/text-to-table/gs-vcfstats-csv-missing-${date_stamp}.tsv ${dsub_range} \\\n",
    "    --dry-run"
   ]
  },
  {
   "cell_type": "markdown",
   "metadata": {},
   "source": [
    "## 3. Concatenate CSV Files"
   ]
  },
  {
   "cell_type": "markdown",
   "metadata": {},
   "source": [
    "#### Get new list of completed results files"
   ]
  },
  {
   "cell_type": "code",
   "execution_count": null,
   "metadata": {},
   "outputs": [],
   "source": [
    "gsutil ls gs://${mvp_bucket}/dsub/vcfstats/text-to-table/objects/*_rtg_vcfstats.txt.csv \\\n",
    "    > ${accounting_dir}/gs-vcfstats-csv-${date_stamp}.txt"
   ]
  },
  {
   "cell_type": "markdown",
   "metadata": {},
   "source": [
    "#### Run dsub task"
   ]
  },
  {
   "cell_type": "code",
   "execution_count": null,
   "metadata": {},
   "outputs": [],
   "source": [
    "dsub \\\n",
    "    --zones ${mvp_zone} \\\n",
    "    --project ${mvp_project} \\\n",
    "    --logging gs://${mvp_bucket}/dsub/vcfstats/concat/logs/${date_stamp} \\\n",
    "    --image gcr.io/${mvp_project}/text-to-table:0.2.0 \\\n",
    "    --disk-size 100 \\\n",
    "    --vars-include-wildcards \\\n",
    "    --input INPUT_FILES=gs://${mvp_bucket}/dsub/vcfstats/text-to-table/objects/*_vcfstats.txt.csv \\\n",
    "    --output CONCAT_FILE=gs://${mvp_bucket}/dsub/vcfstats/concat/concat_vcfstats.txt.csv \\\n",
    "    --command 'cat ${INPUT_FILES} > ${CONCAT_FILE}' \\\n",
    "    #--dry-run"
   ]
  }
 ],
 "metadata": {
  "kernelspec": {
   "display_name": "Python 3",
   "language": "python",
   "name": "python3"
  },
  "language_info": {
   "codemirror_mode": {
    "name": "ipython",
    "version": 3
   },
   "file_extension": ".py",
   "mimetype": "text/x-python",
   "name": "python",
   "nbconvert_exporter": "python",
   "pygments_lexer": "ipython3",
   "version": "3.6.5"
  }
 },
 "nbformat": 4,
 "nbformat_minor": 2
}
