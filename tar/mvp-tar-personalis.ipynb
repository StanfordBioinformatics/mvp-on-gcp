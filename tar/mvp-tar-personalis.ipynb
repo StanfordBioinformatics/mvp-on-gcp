{
 "cells": [
  {
   "cell_type": "markdown",
   "metadata": {},
   "source": [
    "# Unpack tar file"
   ]
  },
  {
   "cell_type": "markdown",
   "metadata": {},
   "source": [
    "# Code"
   ]
  },
  {
   "cell_type": "markdown",
   "metadata": {},
   "source": [
    "## 0. Check that environment variables have been loaded correctly"
   ]
  },
  {
   "cell_type": "markdown",
   "metadata": {},
   "source": [
    "Environment variables are imported from the mvp-profile.sh file. If this echo command does not return anything, try sourcing it from the command console. If any of the values are incorrect, change them in mvp-profile.sh, save it, and source it again."
   ]
  },
  {
   "cell_type": "code",
   "execution_count": 13,
   "metadata": {},
   "outputs": [
    {
     "name": "stdout",
     "output_type": "stream",
     "text": [
      "Date stamp: 20180718\n",
      "Home directory: /Users/jinasong/Work/MVP/mvp-on-gcp\n",
      "Project: gbsc-gcp-project-mvp\n",
      "Data_Bucket: gbsc-gcp-project-mvp-from-personalis\n",
      "Tar_Bucket: gbsc-gcp-project-mvp-from-personalis-archived\n",
      "Anal_Bucket: gbsc-gcp-project-mvp-group/from-personalis-qc\n",
      "Zone: us-*\n"
     ]
    }
   ],
   "source": [
    "echo \"Date stamp: ${date_stamp}\"\n",
    "echo \"Home directory: ${mvp_hub}\"\n",
    "echo \"Project: ${mvp_project}\"\n",
    "echo \"Data_Bucket: ${mvp_data_bucket}\"\n",
    "echo \"Tar_Bucket: ${mvp_tar_bucket}\"\n",
    "echo \"Anal_Bucket: ${mvp_anal_bucket}\"\n",
    "echo \"Zone: ${mvp_zone}\""
   ]
  },
  {
   "cell_type": "markdown",
   "metadata": {},
   "source": [
    "## 1. Unpack tar files"
   ]
  },
  {
   "cell_type": "markdown",
   "metadata": {},
   "source": [
    "#### Create file accounting directory it doesn't already exist"
   ]
  },
  {
   "cell_type": "code",
   "execution_count": 2,
   "metadata": {},
   "outputs": [],
   "source": [
    "accounting_dir=\"${mvp_hub}/tar/file-accounting/${date_stamp}\"\n",
    "mkdir -p ${accounting_dir}\n",
    "dsub_inputs_dir=\"${mvp_hub}/tar/dsub-inputs\"\n",
    "mkdir -p ${dsub_inputs_dir}"
   ]
  },
  {
   "cell_type": "markdown",
   "metadata": {},
   "source": [
    "#### Get list of sample IDs for tar files that already exist on Google Cloud Storage"
   ]
  },
  {
   "cell_type": "code",
   "execution_count": 3,
   "metadata": {},
   "outputs": [],
   "source": [
    "gsutil ls gs://${mvp_data_bucket}/*_tar/*.tar \\\n",
    "    > ${accounting_dir}/gs-tar-${date_stamp}.txt\n",
    "\n",
    "cut -d'/' -f5 ${accounting_dir}/gs-tar-${date_stamp}.txt \\\n",
    "    | cut -d'.' -f1 > ${accounting_dir}/gs-tar-sample-ids-${date_stamp}.txt "
   ]
  },
  {
   "cell_type": "markdown",
   "metadata": {},
   "source": [
    "#### Get list sample IDs for unpacked tar files (sample folders from tar files) that already exist on Google Cloud Storage"
   ]
  },
  {
   "cell_type": "code",
   "execution_count": 6,
   "metadata": {},
   "outputs": [],
   "source": [
    "gsutil ls gs://${mvp_tar_bucket}/ \\\n",
    "    > ${accounting_dir}/gs-unpacked-${date_stamp}.txt\n",
    "cut -d '/' -f4 ${accounting_dir}/gs-unpacked-${date_stamp}.txt > ${accounting_dir}/gs-unpacked-sample-ids-${date_stamp}.txt"
   ]
  },
  {
   "cell_type": "markdown",
   "metadata": {},
   "source": [
    "#### Get difference between lists of sample IDs to find out which samples are missing tar files"
   ]
  },
  {
   "cell_type": "code",
   "execution_count": 7,
   "metadata": {},
   "outputs": [],
   "source": [
    "diff --new-line-format=\"\" --unchanged-line-format \"\" \\\n",
    "    <(sort ${accounting_dir}/gs-tar-sample-ids-${date_stamp}.txt) \\\n",
    "    <(sort ${accounting_dir}/gs-unpacked-sample-ids-${date_stamp}.txt) \\\n",
    "    > ${accounting_dir}/gs-unpacked-missing-sample-ids-${date_stamp}.txt\n",
    "grep -F \\\n",
    "    -f ${accounting_dir}/gs-unpacked-missing-sample-ids-${date_stamp}.txt \\\n",
    "    ${accounting_dir}/gs-tar-${date_stamp}.txt \\\n",
    "    > ${accounting_dir}/gs-unpacked-missing-${date_stamp}.txt"
   ]
  },
  {
   "cell_type": "markdown",
   "metadata": {},
   "source": [
    "#### Create dsub TSV task file to generate missing tar files"
   ]
  },
  {
   "cell_type": "code",
   "execution_count": 8,
   "metadata": {},
   "outputs": [],
   "source": [
    "${mvp_hub}/bin/make-batch-tsv-from-input-tar.py \\\n",
    "    -i ${accounting_dir}/gs-unpacked-missing-${date_stamp}.txt \\\n",
    "    -t ${dsub_inputs_dir}/gs-unpacked-missing-${date_stamp}.tsv \\\n",
    "    -o gs://${mvp_tar_bucket} \\\n",
    "    -s \\*"
   ]
  },
  {
   "cell_type": "markdown",
   "metadata": {},
   "source": [
    "#### Run tar dsub tasks"
   ]
  },
  {
   "cell_type": "code",
   "execution_count": 12,
   "metadata": {},
   "outputs": [
    {
     "name": "stdout",
     "output_type": "stream",
     "text": [
      "Job: tar--jinasong--180718-104130-42\n",
      "Launched job-id: tar--jinasong--180718-104130-42\n",
      "526 task(s)\n",
      "To check the status, run:\n",
      "  dstat --project gbsc-gcp-project-mvp --jobs 'tar--jinasong--180718-104130-42' --status '*'\n",
      "To cancel the job, run:\n",
      "  ddel --project gbsc-gcp-project-mvp --jobs 'tar--jinasong--180718-104130-42'\n",
      "tar--jinasong--180718-104130-42\n"
     ]
    }
   ],
   "source": [
    "dsub \\\n",
    "    --zones ${mvp_zone} \\\n",
    "    --project ${mvp_project} \\\n",
    "    --logging gs://${mvp_anal_bucket}/dsub_tar/tar/log/${date_stamp} \\\n",
    "    --image gcr.io/${mvp_project}/text-to-table-js:0.2.0 \\\n",
    "    --command 'tar -xvf ${INPUT} -C ${OUTPUT_PATH}' \\\n",
    "    --tasks ${mvp_hub}/tar/dsub-inputs/gs-unpacked-missing-${date_stamp}.tsv \\\n",
    "    --disk-size 1000"
   ]
  }
 ],
 "metadata": {
  "kernelspec": {
   "display_name": "Bash",
   "language": "bash",
   "name": "bash"
  },
  "language_info": {
   "codemirror_mode": "shell",
   "file_extension": ".sh",
   "mimetype": "text/x-sh",
   "name": "bash"
  }
 },
 "nbformat": 4,
 "nbformat_minor": 2
}
