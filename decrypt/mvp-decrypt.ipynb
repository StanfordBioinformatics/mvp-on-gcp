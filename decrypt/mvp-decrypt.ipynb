{
 "cells": [
  {
   "cell_type": "markdown",
   "metadata": {},
   "source": [
    "# Decrypt & Extract\n",
    "# What does this do?\n",
    "\n",
    "## Run accounting script to decrypt samples\n",
    "- Get list of encrypted sample archives (tar.pgp)\n",
    "- For each archive, check whether a corresponding directory exists\n",
    "- If not, use dsub to launch decryption job\n",
    "\n",
    "## Perform integrity check\n",
    "- Get a list of all samples\n",
    "- Create dsub input file to run integrity check\n",
    "- Launch dsub jobs\n",
    "- Wait for them to finish\n",
    "\n",
    "## Get list of samples that failed integrity check\n",
    "\n",
    "## Remedy failed samples\n",
    "\n",
    "\n"
   ]
  },
  {
   "cell_type": "markdown",
   "metadata": {},
   "source": [
    "# Files\n",
    "\n",
    "* **global-dir-accountant.sh**: Get a list of encrypted tar.pgp archives. \n",
    "For each archive, check if there is a corresponding sample directory exists. \n",
    "If no corresponding directory found, launch a dsub job to decrypt & extract that tar.pgp archive.\n",
    "* **sample-dir-accountant.sh**: Same functions as global-dir-accountant.sh except user specifies a single sample to investigate.\n",
    "* **make-integrity-tsv-from-file.sh**: Create a dsub TSV input file to perform integrity checks on a provided list of input samples.\n",
    "* **call-integrity-dsub.sh**: Launch dsub jobs to perform integrity checks on all samples listed in TSV input file.\n",
    "* **integrity-check.sh**: Dsub script that performs the integrity check on a given sample.\n",
    "* **list-failed-samples.sh**: Get unique list of samples that included files that were either missing of failed the sha1 check"
   ]
  },
  {
   "cell_type": "markdown",
   "metadata": {},
   "source": [
    "## 0. Check that environment variables have been loaded correctly\n",
    "\n",
    "Environment variables are imported from the mvp-profile.sh file. If this echo command does not return anything, try sourcing it from the command console. If any of the values are incorrect, change them in mvp-profile.sh, save it, and source it again."
   ]
  },
  {
   "cell_type": "code",
   "execution_count": 12,
   "metadata": {},
   "outputs": [
    {
     "name": "stdout",
     "output_type": "stream",
     "text": [
      "Date stamp: 20171019\n",
      "Home directory: /Users/pbilling/Documents/GitHub/test/mvp-on-gcp\n",
      "Project: gbsc-gcp-project-mvp\n",
      "Bucket: gbsc-gcp-project-mvp-phase-2-data\n",
      "Zone: us-central1-*\n",
      "Max dsub jobs: 1500\n",
      "Encrypted archives path: gbsc-gcp-project-mvp-received-from-bina\n",
      "Decyrpted samples directory root: gbsc-gcp-project-mvp-phase-2-data/data/bina-deliverables\n",
      "Decryption passphrase file path: gbsc-gcp-project-mvp-va_aaa/misc/keys/passphrase.txt\n",
      "Decryption pair.asc file: gbsc-gcp-project-mvp-va_aaa/misc/keys/pair.asc\n"
     ]
    }
   ],
   "source": [
    "source /Users/pbilling/Documents/GitHub/test/mvp-on-gcp/mvp-profile.sh\n",
    "echo \"Date stamp: ${date_stamp}\"\n",
    "echo \"Home directory: ${mvp_hub}\"\n",
    "echo \"Project: ${mvp_project}\"\n",
    "echo \"Bucket: ${mvp_bucket}\"\n",
    "echo \"Zone: ${mvp_zone}\"\n",
    "\n",
    "# Decryption specific variables\n",
    "echo \"Max dsub jobs: ${dsub_max_jobs}\"\n",
    "echo \"Encrypted archives path: ${mvp_tar_pgp_path}\"\n",
    "echo \"Decyrpted samples directory root: ${mvp_samples_path}\"\n",
    "echo \"Decryption passphrase file path: ${mvp_decrypt_pass}\"\n",
    "echo \"Decryption pair.asc file: ${mvp_decrypt_ascpair}\""
   ]
  },
  {
   "cell_type": "markdown",
   "metadata": {},
   "source": [
    "## 1. Run accounting script to decrypt & extract samples"
   ]
  },
  {
   "cell_type": "code",
   "execution_count": 7,
   "metadata": {},
   "outputs": [
    {
     "name": "stdout",
     "output_type": "stream",
     "text": [
      "##--- Command-line options\n",
      "# disk_size: 200GB\n",
      "##---\n",
      "\n",
      "##--- General environment variables\n",
      "# date_stamp:  20171018\n",
      "# mvp_hub:     /Users/pbilling/Documents/GitHub/test/mvp-on-gcp\n",
      "# mvp_project: gbsc-gcp-project-mvp\n",
      "# mvp_bucket:  gbsc-gcp-project-mvp-phase-2-data\n",
      "# mvp_zone:    us-central1-*\n",
      "##---\n",
      "\n",
      "##--- Decryption-specific variables\n",
      "# dsub_max_jobs:       1500\n",
      "# mvp_tar_pgp_path:    gbsc-gcp-project-mvp-received-from-bina\n",
      "# mvp_samples_path:    gbsc-gcp-project-mvp-phase-2-data/data/bina-deliverables\n",
      "# mvp_decrypt_pass:    gbsc-gcp-project-mvp-va_aaa/misc/keys/passphrase.txt\n",
      "# mvp_decrypt_ascpair: gbsc-gcp-project-mvp-va_aaa/misc/keys/pair.asc\n",
      "##---\n",
      "\n",
      "##--- Getting list of tar.pgp files\n",
      "\n"
     ]
    }
   ],
   "source": [
    "${mvp_hub}/decrypt/scripts/global-dir-accountant.sh -d 200"
   ]
  },
  {
   "cell_type": "markdown",
   "metadata": {},
   "source": [
    "## 2. Perform integrity check"
   ]
  },
  {
   "cell_type": "markdown",
   "metadata": {},
   "source": [
    "#### Create file accounting directory if it does not exist"
   ]
  },
  {
   "cell_type": "code",
   "execution_count": 11,
   "metadata": {},
   "outputs": [],
   "source": [
    "accounting_dir=\"${mvp_hub}/decrypt/file-accounting/${date_stamp}\"\n",
    "mkdir -p ${accounting_dir}"
   ]
  },
  {
   "cell_type": "markdown",
   "metadata": {},
   "source": [
    "#### Get a list of all samples"
   ]
  },
  {
   "cell_type": "code",
   "execution_count": null,
   "metadata": {},
   "outputs": [],
   "source": [
    "gsutil ls ${mvp_samples_path} > ${accounting_dir}/${date_stamp}-sample-paths.txt \n",
    "cut -d'/' -f6 ${accounting_dir}/${date_stamp}-sample-paths.txt \\\n",
    "    > ${accounting_dir}/${date_stamp}-samples.txt\n",
    "\n",
    "# Validate that number of samples looks right\n",
    "wc -l ${accounting_dir}/${date_stamp}-samples.txt"
   ]
  },
  {
   "cell_type": "markdown",
   "metadata": {},
   "source": [
    "#### Create dsub input file to run integrity check"
   ]
  },
  {
   "cell_type": "code",
   "execution_count": 19,
   "metadata": {},
   "outputs": [
    {
     "name": "stdout",
     "output_type": "stream",
     "text": [
      "\n",
      "##--- Command-line options\n",
      "# samples_list: /Users/pbilling/Documents/GitHub/test/mvp-on-gcp/decrypt/file-accounting/20171019/20171019-samples.txt\n",
      "##---\n",
      "\n",
      "##--- General environment variables\n",
      "# date_stamp:  20171019\n",
      "# mvp_hub:     /Users/pbilling/Documents/GitHub/test/mvp-on-gcp\n",
      "# mvp_project: gbsc-gcp-project-mvp\n",
      "# mvp_bucket:  gbsc-gcp-project-mvp-phase-2-data\n",
      "# mvp_zone:    us-central1-*\n",
      "##---\n",
      "\n",
      "##--- Decryption-specific variables\n",
      "# samples_root: gbsc-gcp-project-mvp-phase-2-data/data/bina-deliverables\n",
      "##---\n",
      "\n",
      "##--- Integrity-specific variables\n",
      "# reported_sizes_root: gs://gbsc-gcp-project-mvp-phase-2-data/objects\n",
      "# integrity_output_roots: gs://gbsc-gcp-project-mvp-phase-2-data/dsub/integrity-check-objects/20171019\n",
      "##---\n",
      "\n",
      "# Generating TSV entry for each sample\n"
     ]
    }
   ],
   "source": [
    "${mvp_hub}/decrypt/scripts/make-integrity-tsv-from-file.sh \\\n",
    "    -s ${accounting_dir}/${date_stamp}-samples.txt"
   ]
  },
  {
   "cell_type": "markdown",
   "metadata": {},
   "source": [
    "#### Perform basic validation of newly created tsv file"
   ]
  },
  {
   "cell_type": "code",
   "execution_count": 22,
   "metadata": {},
   "outputs": [
    {
     "name": "stdout",
     "output_type": "stream",
     "text": [
      "      11 /Users/pbilling/Documents/GitHub/test/mvp-on-gcp/decrypt/file-accounting/20171019/20171019-integrity-check.tsv\n",
      "--input-recursive INPUT_PATH\t--input REF_CSV\t--output ACTUAL_SIZES\t--output SIZE_MISSING\t--output SIZE_PASS\t--output SIZE_FAIL\t--output SHA1_MISSING\t--output SHA1_PASS\t--output SHA1_FAIL\n",
      "gbsc-gcp-project-mvp-phase-2-data/data/bina-deliverables/40013463\tgs://gbsc-gcp-project-mvp-phase-2-data/objects/40013463.csv\tgs://gbsc-gcp-project-mvp-phase-2-data/dsub/integrity-check-objects/20171019/check-sizes/40013463-sizes-actual.csv\tgs://gbsc-gcp-project-mvp-phase-2-data/dsub/integrity-check-objects/20171019/check-sizes/40013463-sizes-missing.csv\tgs://gbsc-gcp-project-mvp-phase-2-data/dsub/integrity-check-objects/20171019/check-sizes/40013463-sizes-pass.csv\tgs://gbsc-gcp-project-mvp-phase-2-data/dsub/integrity-check-objects/20171019/check-sizes/40013463-sizes-fail.csv\tgs://gbsc-gcp-project-mvp-phase-2-data/dsub/integrity-check-objects/20171019/check-sha1/40013463-sha1-missing.csv\tgs://gbsc-gcp-project-mvp-phase-2-data/dsub/integrity-check-objects/20171019/check-sha1/40013463-sha1-pass.csv\tgs://gbsc-gcp-project-mvp-phase-2-data/dsub/integrity-check-objects/20171019/check-sha1/40013463-sha1-fail.csv\n"
     ]
    }
   ],
   "source": [
    "wc -l ${accounting_dir}/${date_stamp}-integrity-check.tsv\n",
    "head -n2 ${accounting_dir}/${date_stamp}-integrity-check.tsv"
   ]
  },
  {
   "cell_type": "markdown",
   "metadata": {},
   "source": [
    "#### Launch integrity check dsub jobs"
   ]
  },
  {
   "cell_type": "code",
   "execution_count": null,
   "metadata": {},
   "outputs": [],
   "source": [
    "${mvp_hub}/decrypt/scripts/call-integrity-dsub.sh \\\n",
    "    -t ${accounting_dir}/${date_stamp}-integrity-check.tsv \\\n",
    "    -d 800"
   ]
  },
  {
   "cell_type": "markdown",
   "metadata": {},
   "source": [
    "#### Wait for integrity checks to finish\n",
    "Get the job ID from the dsub output."
   ]
  },
  {
   "cell_type": "code",
   "execution_count": null,
   "metadata": {},
   "outputs": [],
   "source": [
    "job_id = \"\"\n",
    "dstat \\\n",
    "--project ${mvp_project} \\\n",
    "--jobs ${job_id} \\\n",
    "--wait \\\n",
    "--poll-interval 60"
   ]
  },
  {
   "cell_type": "markdown",
   "metadata": {},
   "source": [
    "## 3. Get list of samples that failed integrity check"
   ]
  },
  {
   "cell_type": "code",
   "execution_count": null,
   "metadata": {},
   "outputs": [],
   "source": [
    "${mvp_hub}/decrypt/scripts/list-failed-samples.sh"
   ]
  }
 ],
 "metadata": {
  "kernelspec": {
   "display_name": "Bash",
   "language": "bash",
   "name": "bash"
  },
  "language_info": {
   "codemirror_mode": "shell",
   "file_extension": ".sh",
   "mimetype": "text/x-sh",
   "name": "bash"
  }
 },
 "nbformat": 4,
 "nbformat_minor": 2
}
