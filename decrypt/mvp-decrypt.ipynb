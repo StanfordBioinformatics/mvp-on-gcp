{
 "cells": [
  {
   "cell_type": "markdown",
   "metadata": {},
   "source": [
    "# Decrypt & Extract\n",
    "# What does this do?\n",
    "\n",
    "## Run global sample accounting script\n",
    "- Get list of encrypted sample archives (tar.pgp)\n",
    "- For each archive, check whether a corresponding directory exists\n",
    "- If not, use dsub to launch decryption job\n"
   ]
  },
  {
   "cell_type": "markdown",
   "metadata": {},
   "source": [
    "# Files\n",
    "\n",
    "* **global-dir-accountant.sh**: Get a list of encrypted tar.pgp archives. \n",
    "For each archive, check if there is a corresponding sample directory exists. \n",
    "If no corresponding directory found, launch a dsub job to decrypt & extract that tar.pgp archive.\n",
    "* **sample-dir-accountant.sh**: Same functions as global-dir-accountant.sh except user specifies a single sample to investigate.\n",
    "* **make-integrity-tsv-from-file.sh**: Create a dsub TSV input file to perform integrity checks on a provided list of input samples.\n",
    "* **call-integrity-dsub.sh**: Launch dsub jobs to perform integrity checks on all samples listed in TSV input file.\n",
    "* **list-failed-samples.sh**: Get unique list of samples that included files that were either missing of failed the sha1 check"
   ]
  },
  {
   "cell_type": "markdown",
   "metadata": {},
   "source": [
    "## 0. Check that environment variables have been loaded correctly\n",
    "\n",
    "Environment variables are imported from the mvp-profile.sh file. If this echo command does not return anything, try sourcing it from the command console. If any of the values are incorrect, change them in mvp-profile.sh, save it, and source it again."
   ]
  },
  {
   "cell_type": "code",
   "execution_count": null,
   "metadata": {},
   "outputs": [],
   "source": [
    "# source mvp_profile.sh\n",
    "echo \"Date stamp: ${date_stamp}\"\n",
    "echo \"Home directory: ${mvp_hub}\"\n",
    "echo \"Project: ${mvp_project}\"\n",
    "echo \"Bucket: ${mvp_bucket}\"\n",
    "echo \"Zone: ${mvp_zone}\"\n",
    "\n",
    "# Decryption specific variables\n",
    "echo \"Max dsub jobs: ${dsub_max_jobs}\"\n",
    "echo \"Encrypted archives path: ${mvp_tar_pgp_path}\"\n",
    "echo \"Decyrpted & extracted sample directories path: ${mvp_samples_path}\"\n",
    "echo \"Decryption passphrase file path: ${mvp_decrypt_pass}\"\n",
    "echo \"Decryption pair.asc file: ${mvp_decrypt_ascpair}\""
   ]
  },
  {
   "cell_type": "markdown",
   "metadata": {},
   "source": [
    "## 1. Run accounting script to decrypt & extract samples"
   ]
  },
  {
   "cell_type": "code",
   "execution_count": null,
   "metadata": {},
   "outputs": [],
   "source": [
    "${mvp_hub}/decrypt/scripts/global-dir-accountant.sh -d 200GB"
   ]
  }
 ],
 "metadata": {
  "kernelspec": {
   "display_name": "Bash",
   "language": "bash",
   "name": "bash"
  },
  "language_info": {
   "codemirror_mode": "shell",
   "file_extension": ".sh",
   "mimetype": "text/x-sh",
   "name": "bash"
  }
 },
 "nbformat": 4,
 "nbformat_minor": 2
}
