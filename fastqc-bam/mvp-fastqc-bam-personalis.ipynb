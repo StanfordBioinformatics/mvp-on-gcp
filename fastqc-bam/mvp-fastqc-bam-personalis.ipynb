{
 "cells": [
  {
   "cell_type": "markdown",
   "metadata": {},
   "source": [
    "# FastQC\n",
    "# What does this do?\n",
    "\n",
    "### Run FastQC\n",
    "- Get list of sample IDs for all alignments.bam files on Google Cloud Storage (GCS)\n",
    "- Get list of sample IDs for all alignments.bam.fastqc_data.txt files on GCS\n",
    "- Compare lists to find samples missing fastqc data files\n",
    "- Use make-batch-tsv-from-input-sample.py to generate dsub task file\n",
    "- Run dsub to generate missing alignments.bam.fastqc_data.txt files\n",
    "\n",
    "### Convert FastQC result files to CSV format\n",
    "- Get list of all fastqc_data.txt files\n",
    "- Get list of all fastqc_data.txt.csv files\n",
    "- Convert each to lists of sample IDs\n",
    "- Compare lists to find samples that are missing fastqc_data.txt.csv files\n",
    "- Use make-batch-tsv-from-input-file.py to generate dsub task file\n",
    "- Run dsub to generate missing fastqc_data.txt.csv files\n",
    "\n",
    "### Concatenate CSV Files\n",
    "- Get list of all fastqc_data.txt.csv files\n",
    "- Run dsub to concatenate all fastqc_data.txt.csv files"
   ]
  },
  {
   "cell_type": "markdown",
   "metadata": {},
   "source": [
    "# Code"
   ]
  },
  {
   "cell_type": "markdown",
   "metadata": {},
   "source": [
    "## 0. Check that environment variables have been loaded correctly"
   ]
  },
  {
   "cell_type": "markdown",
   "metadata": {},
   "source": [
    "Environment variables are imported from the mvp-profile.sh file. If this echo command does not return anything, try sourcing it from the command console. If any of the values are incorrect, change them in mvp-profile.sh, save it, and source it again."
   ]
  },
  {
   "cell_type": "code",
   "execution_count": 1,
   "metadata": {},
   "outputs": [
    {
     "name": "stdout",
     "output_type": "stream",
     "text": [
      "Date stamp: 20180730\n",
      "Home directory: /Users/jinasong/Work/MVP/mvp-on-gcp\n",
      "Project: gbsc-gcp-project-mvp\n",
      "Data_Bucket: gbsc-gcp-project-mvp-from-personalis\n",
      "Anal_Bucket: gbsc-gcp-project-mvp-from-personalis-qc\n",
      "Zone: us-*\n"
     ]
    }
   ],
   "source": [
    "echo \"Date stamp: ${date_stamp}\"\n",
    "echo \"Home directory: ${mvp_hub}\"\n",
    "echo \"Project: ${mvp_project}\"\n",
    "echo \"Data_Bucket: ${mvp_data_bucket}\"\n",
    "echo \"Anal_Bucket: ${mvp_anal_bucket}\"\n",
    "echo \"Zone: ${mvp_zone}\""
   ]
  },
  {
   "cell_type": "markdown",
   "metadata": {},
   "source": [
    "## 1. Run samtools flagstat"
   ]
  },
  {
   "cell_type": "markdown",
   "metadata": {},
   "source": [
    "#### Create file accounting directory it doesn't already exist"
   ]
  },
  {
   "cell_type": "code",
   "execution_count": 6,
   "metadata": {},
   "outputs": [
    {
     "name": "stdout",
     "output_type": "stream",
     "text": [
      "Date stamp: 20180727\n"
     ]
    }
   ],
   "source": [
    "date_stamp=20180727\n",
    "echo \"Date stamp: ${date_stamp}\"\n",
    "\n",
    "accounting_dir=\"${mvp_hub}/fastqc-bam/file-accounting/${date_stamp}\"\n",
    "mkdir -p ${accounting_dir}\n",
    "dsub_inputs_dir=\"${mvp_hub}/fastqc-bam/dsub-inputs\"\n",
    "mkdir -p ${dsub_inputs_dir}"
   ]
  },
  {
   "cell_type": "markdown",
   "metadata": {},
   "source": [
    "#### Get list of sample IDs for gvcf files that already exist on Google Cloud Storage"
   ]
  },
  {
   "cell_type": "code",
   "execution_count": 3,
   "metadata": {},
   "outputs": [],
   "source": [
    "gsutil ls gs://${mvp_data_bucket}/*/Alignments/*.bam \\\n",
    "    > ${accounting_dir}/gs-bam-${date_stamp}.txt\n",
    "\n",
    "cut -d'/' -f6 ${accounting_dir}/gs-bam-${date_stamp}.txt \\\n",
    "    | cut -d'.' -f1 > ${accounting_dir}/gs-bam-sample-ids-${date_stamp}.txt # with chr #\n",
    "   # > ${accounting_dir}/gs-bam-sample-ids-${date_stamp}.txt"
   ]
  },
  {
   "cell_type": "markdown",
   "metadata": {},
   "source": [
    "#### Get list sample IDs for FastQC files that already exist on Google Cloud Storage"
   ]
  },
  {
   "cell_type": "code",
   "execution_count": 4,
   "metadata": {},
   "outputs": [],
   "source": [
    "gsutil ls gs://${mvp_anal_bucket}/dsub/fastqc-bam/fastqc/objects/*_alignments.bam.fastqc_data.txt \\\n",
    "    > ${accounting_dir}/gs-fastqc-data-${date_stamp}.txt\n",
    "cut -d '/' -f8 ${accounting_dir}/gs-fastqc-data-${date_stamp}.txt \\\n",
    "    | cut -d'_' -f1-3 > ${accounting_dir}/gs-fastqc-data-sample-ids-${date_stamp}.txt"
   ]
  },
  {
   "cell_type": "markdown",
   "metadata": {},
   "source": [
    "#### Get difference between lists of sample IDs to find out which samples are missing FastQC files"
   ]
  },
  {
   "cell_type": "code",
   "execution_count": 5,
   "metadata": {},
   "outputs": [],
   "source": [
    "diff --new-line-format=\"\" --unchanged-line-format \"\" \\\n",
    "    <(sort ${accounting_dir}/gs-bam-sample-ids-${date_stamp}.txt) \\\n",
    "    <(sort ${accounting_dir}/gs-fastqc-data-sample-ids-${date_stamp}.txt) \\\n",
    "    > ${accounting_dir}/gs-fastqc-data-missing-sample-ids-${date_stamp}.txt\n",
    "grep -F \\\n",
    "    -f ${accounting_dir}/gs-fastqc-data-missing-sample-ids-${date_stamp}.txt \\\n",
    "    ${accounting_dir}/gs-bam-${date_stamp}.txt \\\n",
    "    > ${accounting_dir}/gs-fastqc-data-missing-${date_stamp}.txt"
   ]
  },
  {
   "cell_type": "markdown",
   "metadata": {},
   "source": [
    "#### Create dsub TSV task file to generate missing vcfstats files"
   ]
  },
  {
   "cell_type": "code",
   "execution_count": 6,
   "metadata": {},
   "outputs": [],
   "source": [
    "${mvp_hub}/bin/make-batch-tsv-from-input-sample.py \\\n",
    "    -i ${accounting_dir}/gs-fastqc-data-missing-${date_stamp}.txt \\\n",
    "    -t ${dsub_inputs_dir}/fastqc/gs-fastqc-data-missing-${date_stamp}.tsv \\\n",
    "    -o gs://${mvp_anal_bucket}/dsub/fastqc-bam/fastqc/objects \\\n",
    "    -s alignments.bam.fastqc_data.txt\n",
    "    #-s all/*"
   ]
  },
  {
   "cell_type": "markdown",
   "metadata": {},
   "source": [
    "#### Run FastQC dsub tasks"
   ]
  },
  {
   "cell_type": "code",
   "execution_count": 8,
   "metadata": {},
   "outputs": [
    {
     "name": "stdout",
     "output_type": "stream",
     "text": [
      "Job: fastqc--jinasong--180727-121124-28\n",
      "Launched job-id: fastqc--jinasong--180727-121124-28\n",
      "8000 task(s)\n",
      "To check the status, run:\n",
      "  dstat --project gbsc-gcp-project-mvp --jobs 'fastqc--jinasong--180727-121124-28' --status '*'\n",
      "To cancel the job, run:\n",
      "  ddel --project gbsc-gcp-project-mvp --jobs 'fastqc--jinasong--180727-121124-28'\n",
      "fastqc--jinasong--180727-121124-28\n"
     ]
    }
   ],
   "source": [
    "dsub \\\n",
    "    --zones ${mvp_zone} \\\n",
    "    --project ${mvp_project} \\\n",
    "    --logging gs://${mvp_anal_bucket}/dsub/fastqc-bam/fastqc/logs/${date_stamp} \\\n",
    "    --image gcr.io/${mvp_project}/fastqc:1.01 \\\n",
    "    --disk-size 500 \\\n",
    "    --script ${mvp_hub}/fastqc-bam/dsub-scripts/fastqc.sh \\\n",
    "    --tasks ${mvp_hub}/fastqc-bam/dsub-inputs/fastqc/gs-fastqc-data-missing-${date_stamp}.tsv 526-"
   ]
  },
  {
   "cell_type": "markdown",
   "metadata": {},
   "source": [
    "## 2. Convert FastQC data files to CSV format"
   ]
  },
  {
   "cell_type": "markdown",
   "metadata": {},
   "source": [
    "#### Get list of sample IDs for FastQC data files that already exist on Google Cloud Storage"
   ]
  },
  {
   "cell_type": "code",
   "execution_count": 9,
   "metadata": {},
   "outputs": [],
   "source": [
    "gsutil ls gs://${mvp_anal_bucket}/dsub/fastqc-bam/fastqc/objects/*alignments.bam.fastqc_data.txt \\\n",
    "  > ${accounting_dir}/gs-fastqc-bam-txt-${date_stamp}.txt\n",
    "cut -d'/' -f8 ${accounting_dir}/gs-fastqc-bam-txt-${date_stamp}.txt \\\n",
    "  | cut -d'_' -f1-3 > ${accounting_dir}/gs-fastqc-bam-txt-sample-ids-${date_stamp}.txt # with chr number  "
   ]
  },
  {
   "cell_type": "markdown",
   "metadata": {},
   "source": [
    "#### Get list of sample IDs for FastQC CSV files that already exist on Google Cloud Storage"
   ]
  },
  {
   "cell_type": "code",
   "execution_count": 11,
   "metadata": {},
   "outputs": [],
   "source": [
    "gsutil ls gs://${mvp_anal_bucket}/dsub/fastqc-bam/text-to-table/objects/*alignments.bam.fastqc_data.txt.csv \\\n",
    "    > ${accounting_dir}/gs-fastqc-bam-csv-${date_stamp}.txt\n",
    "cut -d'/' -f8 ${accounting_dir}/gs-fastqc-bam-csv-${date_stamp}.txt \\\n",
    "    | cut -d'_' -f1-3 > ${accounting_dir}/gs-fastqc-bam-csv-sample-ids-${date_stamp}.txt\n",
    "#    | cut -d'_' -f1 > ${accounting_dir}/gs-fastqc-bam-csv-sample-ids-${date_stamp}.txt"
   ]
  },
  {
   "cell_type": "markdown",
   "metadata": {},
   "source": [
    "#### Get difference between lists of sample IDs to find out which samples are missing vcfstats files"
   ]
  },
  {
   "cell_type": "code",
   "execution_count": 12,
   "metadata": {},
   "outputs": [],
   "source": [
    "diff \\\n",
    "  --new-line-format=\"\" \\\n",
    "  --unchanged-line-format \"\" \\\n",
    "  <(sort ${accounting_dir}/gs-fastqc-bam-txt-sample-ids-${date_stamp}.txt) \\\n",
    "  <(sort ${accounting_dir}/gs-fastqc-bam-csv-sample-ids-${date_stamp}.txt) \\\n",
    "  > ${accounting_dir}/gs-fastqc-bam-csv-sample-ids-missing-${date_stamp}.txt\n",
    "grep -F \\\n",
    "  -f ${accounting_dir}/gs-fastqc-bam-csv-sample-ids-missing-${date_stamp}.txt \\\n",
    "  ${accounting_dir}/gs-fastqc-bam-txt-${date_stamp}.txt \\\n",
    "  > ${accounting_dir}/gs-fastqc-bam-csv-missing-${date_stamp}.txt"
   ]
  },
  {
   "cell_type": "markdown",
   "metadata": {},
   "source": [
    "#### Convert file list to dsub TSV files"
   ]
  },
  {
   "cell_type": "code",
   "execution_count": 13,
   "metadata": {},
   "outputs": [],
   "source": [
    "${mvp_hub}/bin/make-batch-tsv-from-input-file.py \\\n",
    "    -i ${accounting_dir}/gs-fastqc-bam-csv-missing-${date_stamp}.txt \\\n",
    "    -t ${dsub_inputs_dir}/text-to-table/gs-fastqc-bam-csv-missing-${date_stamp}.tsv \\\n",
    "    -o gs://${mvp_anal_bucket}/dsub/fastqc-bam/text-to-table/objects \\\n",
    "    -s csv \\\n",
    "    -c fastqc \n",
    "    #-e fastqc-bam-${date_stamp}   "
   ]
  },
  {
   "cell_type": "markdown",
   "metadata": {},
   "source": [
    "#### Run dsub task"
   ]
  },
  {
   "cell_type": "code",
   "execution_count": 14,
   "metadata": {
    "scrolled": true
   },
   "outputs": [
    {
     "name": "stdout",
     "output_type": "stream",
     "text": [
      "Job: text2table--jinasong--180727-144656-55\n",
      "Launched job-id: text2table--jinasong--180727-144656-55\n",
      "8525 task(s)\n",
      "To check the status, run:\n",
      "  dstat --project gbsc-gcp-project-mvp --jobs 'text2table--jinasong--180727-144656-55' --status '*'\n",
      "To cancel the job, run:\n",
      "  ddel --project gbsc-gcp-project-mvp --jobs 'text2table--jinasong--180727-144656-55'\n",
      "text2table--jinasong--180727-144656-55\n"
     ]
    }
   ],
   "source": [
    "dsub \\\n",
    "    --zones ${mvp_zone} \\\n",
    "    --project ${mvp_project} \\\n",
    "    --logging gs://${mvp_anal_bucket}/dsub/fastqc-bam/text-to-table/logs/${date_stamp} \\\n",
    "    --image gcr.io/${mvp_project}/text-to-table-js:0.2.0\\\n",
    "    --input JSON=gs://${mvp_anal_bucket}/dsub/fastqc-bam/text-to-table/json/fastqc_seq.json \\\n",
    "    --command 'text2table -j ${JSON} -o ${OUTPUT} -v chr=${SERIES},sample=${SAMPLE_ID} ${INPUT}' \\\n",
    "    --tasks ${dsub_inputs_dir}/text-to-table/gs-fastqc-bam-csv-missing-${date_stamp}.tsv "
   ]
  },
  {
   "cell_type": "markdown",
   "metadata": {},
   "source": [
    "## 3. Concatenate CSV Files"
   ]
  },
  {
   "cell_type": "markdown",
   "metadata": {},
   "source": [
    "#### Get new list of completed results files"
   ]
  },
  {
   "cell_type": "code",
   "execution_count": 11,
   "metadata": {},
   "outputs": [
    {
     "name": "stdout",
     "output_type": "stream",
     "text": [
      "Removing gs://gbsc-gcp-project-mvp-from-personalis-qc/dsub/fastqc-bam/concat/objects/concat_alignments.bam.fastqc_data.txt.csv...\n",
      "/ [1 objects]                                                                   \n",
      "Operation completed over 1 objects.                                              \n"
     ]
    }
   ],
   "source": [
    "gsutil ls gs://${mvp_anal_bucket}/dsub/fastqc-bam/text-to-table/objects/*alignments.bam.fastqc_data.txt.csv \\\n",
    "    > ${accounting_dir}/gs-fastqc-bam-csv-${date_stamp}.txt\n",
    "    \n",
    "gsutil cp ${mvp_anal_bucket}/dsub/fastqc-bam/concat/objects/concat_alignments.bam.fastqc_data.txt.csv \\\n",
    "    gs://${mvp_anal_bucket}/dsub/fastqc-bam/concat/objects/copy_concat_alignments.bam.fastqc_data.txt.csv\n",
    "\n",
    "gsutil rm ${mvp_anal_bucket}/dsub/fastqc-bam/concat/objects/concat_alignments.bam.fastqc_data.txt.csv"
   ]
  },
  {
   "cell_type": "markdown",
   "metadata": {},
   "source": [
    "#### Run dsub task"
   ]
  },
  {
   "cell_type": "code",
   "execution_count": 15,
   "metadata": {},
   "outputs": [
    {
     "name": "stdout",
     "output_type": "stream",
     "text": [
      "Job: for--jinasong--180731-102014-74\n",
      "Launched job-id: for--jinasong--180731-102014-74\n",
      "To check the status, run:\n",
      "  dstat --project gbsc-gcp-project-mvp --jobs 'for--jinasong--180731-102014-74' --status '*'\n",
      "To cancel the job, run:\n",
      "  ddel --project gbsc-gcp-project-mvp --jobs 'for--jinasong--180731-102014-74'\n",
      "for--jinasong--180731-102014-74\n"
     ]
    }
   ],
   "source": [
    "dsub \\\n",
    "    --zones ${mvp_zone} \\\n",
    "    --project ${mvp_project} \\\n",
    "    --logging gs://${mvp_anal_bucket}/dsub/fastqc-bam/concat/logs/${date_stamp} \\\n",
    "    --image gcr.io/${mvp_project}/text-to-table-js:0.2.0 \\\n",
    "    --disk-size 100 \\\n",
    "    --input INPUT_FILES=gs://${mvp_anal_bucket}/dsub/fastqc-bam/text-to-table/objects/*alignments.bam.fastqc_data.txt.csv \\\n",
    "    --output CONCAT_FILE=gs://${mvp_anal_bucket}/dsub/fastqc-bam/concat/objects/concat_alignments.bam.fastqc_data.txt.csv \\\n",
    "    --command 'for f in ${INPUT_FILES}; do cat \"$f\" >> ${CONCAT_FILE}; done' \n",
    "    #--dry-run\n",
    "    #--vars-include-wildcards"
   ]
  },
  {
   "cell_type": "markdown",
   "metadata": {},
   "source": [
    "## 4. Upload CSV Files to BigQuery"
   ]
  },
  {
   "cell_type": "code",
   "execution_count": 14,
   "metadata": {},
   "outputs": [
    {
     "name": "stdout",
     "output_type": "stream",
     "text": [
      "\r",
      "Waiting on bqjob_r3abac7db9d2c5fb6_00000164ed3a11ba_1 ... (0s) Current status: RUNNING\r",
      "                                                                                      \r",
      "Waiting on bqjob_r3abac7db9d2c5fb6_00000164ed3a11ba_1 ... (1s) Current status: RUNNING\r",
      "                                                                                      \r",
      "Waiting on bqjob_r3abac7db9d2c5fb6_00000164ed3a11ba_1 ... (2s) Current status: RUNNING\r",
      "                                                                                      \r",
      "Waiting on bqjob_r3abac7db9d2c5fb6_00000164ed3a11ba_1 ... (3s) Current status: RUNNING\r",
      "                                                                                      \r",
      "Waiting on bqjob_r3abac7db9d2c5fb6_00000164ed3a11ba_1 ... (5s) Current status: RUNNING\r",
      "                                                                                      \r",
      "Waiting on bqjob_r3abac7db9d2c5fb6_00000164ed3a11ba_1 ... (6s) Current status: RUNNING\r",
      "                                                                                      \r",
      "Waiting on bqjob_r3abac7db9d2c5fb6_00000164ed3a11ba_1 ... (7s) Current status: RUNNING\r",
      "                                                                                      \r",
      "Waiting on bqjob_r3abac7db9d2c5fb6_00000164ed3a11ba_1 ... (8s) Current status: RUNNING\r",
      "                                                                                      \r",
      "Waiting on bqjob_r3abac7db9d2c5fb6_00000164ed3a11ba_1 ... (8s) Current status: DONE   \n"
     ]
    }
   ],
   "source": [
    "bq load --replace testing.Jina_Personalis_fastqc \\\n",
    "    gs://gbsc-gcp-project-mvp-from-personalis-qc/dsub/fastqc-bam/concat/objects/concat_alignments.bam.fastqc_data.txt.csv \\\n",
    "    dimension:string,index:string,value:string,chr:string,sample:string"
   ]
  }
 ],
 "metadata": {
  "kernelspec": {
   "display_name": "Bash",
   "language": "bash",
   "name": "bash"
  },
  "language_info": {
   "codemirror_mode": "shell",
   "file_extension": ".sh",
   "mimetype": "text/x-sh",
   "name": "bash"
  }
 },
 "nbformat": 4,
 "nbformat_minor": 2
}
