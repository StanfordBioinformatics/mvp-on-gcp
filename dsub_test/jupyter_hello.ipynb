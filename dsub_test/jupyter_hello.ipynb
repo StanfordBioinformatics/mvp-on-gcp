{
 "cells": [
  {
   "cell_type": "code",
   "execution_count": 1,
   "metadata": {
    "scrolled": true
   },
   "outputs": [
    {
     "data": {
      "text/plain": [
       "'3.6.5 (v3.6.5:f59c0932b4, Mar 28 2018, 05:52:31) \\n[GCC 4.2.1 Compatible Apple LLVM 6.0 (clang-600.0.57)]'"
      ]
     },
     "execution_count": 1,
     "metadata": {},
     "output_type": "execute_result"
    }
   ],
   "source": [
    "import sys \n",
    "sys.version"
   ]
  },
  {
   "cell_type": "code",
   "execution_count": 2,
   "metadata": {},
   "outputs": [
    {
     "name": "stdout",
     "output_type": "stream",
     "text": [
      "Job: echo--jinasong--180419-101853-97\n",
      "Launched job-id: echo--jinasong--180419-101853-97\n",
      "To check the status, run:\n",
      "  dstat --project gbsc-gcp-lab-gbsc --jobs 'echo--jinasong--180419-101853-97' --status '*'\n",
      "To cancel the job, run:\n",
      "  ddel --project gbsc-gcp-lab-gbsc --jobs 'echo--jinasong--180419-101853-97'\n",
      "Waiting for job to complete...\n",
      "Waiting for: echo--jinasong--180419-101853-97.\n",
      "  echo--jinasong--180419-101853-97: SUCCESS\n",
      "echo--jinasong--180419-101853-97\n"
     ]
    }
   ],
   "source": [
    "!dsub \\\n",
    "--project gbsc-gcp-lab-gbsc \\\n",
    "--zones \"us-west1-*\" \\\n",
    "--logging gs://gbsc-gcp-lab-gbsc-group/logging/ \\\n",
    "--output OUT=gs://gbsc-gcp-lab-gbsc-group/output/jupyter_out.txt \\\n",
    "--command 'echo \"Hello World Jupyter!\" > \"${OUT}\"' \\\n",
    "--wait"
   ]
  },
  {
   "cell_type": "code",
   "execution_count": 5,
   "metadata": {},
   "outputs": [
    {
     "name": "stdout",
     "output_type": "stream",
     "text": [
      "\n",
      "\n",
      "Updates are available for some Cloud SDK components.  To install them,\n",
      "please run:\n",
      "  $ gcloud components update\n",
      "\n",
      "Hello World Jupyter!\n"
     ]
    }
   ],
   "source": [
    "!gsutil cat gs://gbsc-gcp-lab-gbsc-group/output/jupyter_out.txt"
   ]
  },
  {
   "cell_type": "code",
   "execution_count": null,
   "metadata": {},
   "outputs": [],
   "source": []
  }
 ],
 "metadata": {
  "kernelspec": {
   "display_name": "Bash",
   "language": "bash",
   "name": "bash"
  },
  "language_info": {
   "codemirror_mode": "shell",
   "file_extension": ".sh",
   "mimetype": "text/x-sh",
   "name": "bash"
  }
 },
 "nbformat": 4,
 "nbformat_minor": 2
}
