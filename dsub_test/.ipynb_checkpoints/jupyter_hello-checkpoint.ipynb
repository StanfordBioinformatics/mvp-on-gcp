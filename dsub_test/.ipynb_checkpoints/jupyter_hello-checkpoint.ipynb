{
 "cells": [
  {
   "cell_type": "code",
   "execution_count": 2,
   "metadata": {},
   "outputs": [
    {
     "data": {
      "text/plain": [
       "'3.6.5 (v3.6.5:f59c0932b4, Mar 28 2018, 05:52:31) \\n[GCC 4.2.1 Compatible Apple LLVM 6.0 (clang-600.0.57)]'"
      ]
     },
     "execution_count": 2,
     "metadata": {},
     "output_type": "execute_result"
    }
   ],
   "source": [
    "import sys \n",
    "sys.version"
   ]
  },
  {
   "cell_type": "code",
   "execution_count": 5,
   "metadata": {},
   "outputs": [
    {
     "ename": "SyntaxError",
     "evalue": "invalid syntax (<ipython-input-5-0553f14a0c2f>, line 1)",
     "output_type": "error",
     "traceback": [
      "\u001b[0;36m  File \u001b[0;32m\"<ipython-input-5-0553f14a0c2f>\"\u001b[0;36m, line \u001b[0;32m1\u001b[0m\n\u001b[0;31m    dsub --project gbsc-gcp-lab-gbsc --zones \"us-west1-*\" --logging gs://gbsc-gcp-lab-gbsc-group/logging/ --output OUT=gs://gbsc-gcp-lab-gbsc-group/output/out.txt --command 'echo \"Hello World notebook!\" > \"${OUT}\"' --wait\u001b[0m\n\u001b[0m                      ^\u001b[0m\n\u001b[0;31mSyntaxError\u001b[0m\u001b[0;31m:\u001b[0m invalid syntax\n"
     ]
    }
   ],
   "source": [
    "!dsub \\\n",
    "--project gbsc-gcp-lab-gbsc \\\n",
    "--zones \"us-west1-*\" \\\n",
    "--logging gs://gbsc-gcp-lab-gbsc-group/logging/ \\\n",
    "--output OUT=gs://gbsc-gcp-lab-gbsc-group/output/out.txt \\\n",
    "--command 'echo \"Hello World notebook!\" > \"${OUT}\"' \\\n",
    "--wait"
   ]
  },
  {
   "cell_type": "code",
   "execution_count": null,
   "metadata": {},
   "outputs": [],
   "source": []
  }
 ],
 "metadata": {
  "kernelspec": {
   "display_name": "Python 3",
   "language": "python",
   "name": "python3"
  },
  "language_info": {
   "codemirror_mode": {
    "name": "ipython",
    "version": 3
   },
   "file_extension": ".py",
   "mimetype": "text/x-python",
   "name": "python",
   "nbconvert_exporter": "python",
   "pygments_lexer": "ipython3",
   "version": "3.6.5"
  }
 },
 "nbformat": 4,
 "nbformat_minor": 2
}
