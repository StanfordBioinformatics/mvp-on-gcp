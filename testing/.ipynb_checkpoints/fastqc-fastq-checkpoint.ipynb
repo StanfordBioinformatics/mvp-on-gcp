{
 "cells": [
  {
   "cell_type": "code",
   "execution_count": 1,
   "metadata": {
    "scrolled": true
   },
   "outputs": [
    {
     "name": "stdout",
     "output_type": "stream",
     "text": [
      "Date stamp: 20180618\n",
      "Home directory: /Users/jinasong/Work/MVP/mvp-on-gcp\n",
      "Project: gbsc-gcp-project-mvp\n",
      "Bucket: gbsc-gcp-project-mvp-group/for-jina\n",
      "Zone: us-*\n"
     ]
    }
   ],
   "source": [
    "echo \"Date stamp: ${date_stamp}\"\n",
    "echo \"Home directory: ${mvp_hub}\"\n",
    "echo \"Project: ${mvp_project}\"\n",
    "echo \"Bucket: ${mvp_bucket}\"\n",
    "echo \"Zone: ${mvp_zone}\""
   ]
  },
  {
   "cell_type": "code",
   "execution_count": 7,
   "metadata": {},
   "outputs": [
    {
     "name": "stdout",
     "output_type": "stream",
     "text": [
      "Job: samtools--jinasong--180614-162943-45\n",
      "Launched job-id: samtools--jinasong--180614-162943-45\n",
      "To check the status, run:\n",
      "  dstat --project gbsc-gcp-project-mvp --jobs 'samtools--jinasong--180614-162943-45' --status '*'\n",
      "To cancel the job, run:\n",
      "  ddel --project gbsc-gcp-project-mvp --jobs 'samtools--jinasong--180614-162943-45'\n",
      "samtools--jinasong--180614-162943-45\n"
     ]
    }
   ],
   "source": [
    "#dsub \\\n",
    "#    --zones ${mvp_zone} \\\n",
    "#    --project ${mvp_project} \\\n",
    "#    --logging gs://${mvp_bucket}/test/samtools/merge/logs/${date_stamp} \\\n",
    "#    --disk-size 3000 \\\n",
    "#    --image gcr.io/${mvp_project}/samtools_1.3.1 \\\n",
    "#    --command 'samtools merge -c gs://gbsc-gcp-project-mvp-group/for-jina/test/merge.bam gs://gbsc-gcp-project-mvp-group/for-jina/SHIP4420818/Alignments/*.bam' \\\n",
    "#    #--tasks ${dsub_inputs_dir}/text-to-table/gs-vcfstats-csv-missing-${date_stamp}.tsv"
   ]
  },
  {
   "cell_type": "code",
   "execution_count": 9,
   "metadata": {},
   "outputs": [
    {
     "name": "stdout",
     "output_type": "stream",
     "text": [
      "gs://gbsc-gcp-project-mvp-group/for-jina/dsub/fastqc-bam/fastqc/objects/SHIP4420818_chromosome_10_alignments.bam.fastqc_data.txt\n",
      "gs://gbsc-gcp-project-mvp-group/for-jina/dsub/fastqc-bam/fastqc/objects/SHIP4420818_chromosome_11_alignments.bam.fastqc_data.txt\n",
      "gs://gbsc-gcp-project-mvp-group/for-jina/dsub/fastqc-bam/fastqc/objects/SHIP4420818_chromosome_12_alignments.bam.fastqc_data.txt\n",
      "gs://gbsc-gcp-project-mvp-group/for-jina/dsub/fastqc-bam/fastqc/objects/SHIP4420818_chromosome_13_alignments.bam.fastqc_data.txt\n",
      "gs://gbsc-gcp-project-mvp-group/for-jina/dsub/fastqc-bam/fastqc/objects/SHIP4420818_chromosome_14_alignments.bam.fastqc_data.txt\n",
      "gs://gbsc-gcp-project-mvp-group/for-jina/dsub/fastqc-bam/fastqc/objects/SHIP4420818_chromosome_15_alignments.bam.fastqc_data.txt\n",
      "gs://gbsc-gcp-project-mvp-group/for-jina/dsub/fastqc-bam/fastqc/objects/SHIP4420818_chromosome_16_alignments.bam.fastqc_data.txt\n",
      "gs://gbsc-gcp-project-mvp-group/for-jina/dsub/fastqc-bam/fastqc/objects/SHIP4420818_chromosome_17_alignments.bam.fastqc_data.txt\n",
      "gs://gbsc-gcp-project-mvp-group/for-jina/dsub/fastqc-bam/fastqc/objects/SHIP4420818_chromosome_18_alignments.bam.fastqc_data.txt\n",
      "gs://gbsc-gcp-project-mvp-group/for-jina/dsub/fastqc-bam/fastqc/objects/SHIP4420818_chromosome_19_alignments.bam.fastqc_data.txt\n",
      "gs://gbsc-gcp-project-mvp-group/for-jina/dsub/fastqc-bam/fastqc/objects/SHIP4420818_chromosome_1_alignments.bam.fastqc_data.txt\n",
      "gs://gbsc-gcp-project-mvp-group/for-jina/dsub/fastqc-bam/fastqc/objects/SHIP4420818_chromosome_20_alignments.bam.fastqc_data.txt\n",
      "gs://gbsc-gcp-project-mvp-group/for-jina/dsub/fastqc-bam/fastqc/objects/SHIP4420818_chromosome_21_alignments.bam.fastqc_data.txt\n",
      "gs://gbsc-gcp-project-mvp-group/for-jina/dsub/fastqc-bam/fastqc/objects/SHIP4420818_chromosome_22_alignments.bam.fastqc_data.txt\n",
      "gs://gbsc-gcp-project-mvp-group/for-jina/dsub/fastqc-bam/fastqc/objects/SHIP4420818_chromosome_2_alignments.bam.fastqc_data.txt\n",
      "gs://gbsc-gcp-project-mvp-group/for-jina/dsub/fastqc-bam/fastqc/objects/SHIP4420818_chromosome_3_alignments.bam.fastqc_data.txt\n",
      "gs://gbsc-gcp-project-mvp-group/for-jina/dsub/fastqc-bam/fastqc/objects/SHIP4420818_chromosome_4_alignments.bam.fastqc_data.txt\n",
      "gs://gbsc-gcp-project-mvp-group/for-jina/dsub/fastqc-bam/fastqc/objects/SHIP4420818_chromosome_5_alignments.bam.fastqc_data.txt\n",
      "gs://gbsc-gcp-project-mvp-group/for-jina/dsub/fastqc-bam/fastqc/objects/SHIP4420818_chromosome_6_alignments.bam.fastqc_data.txt\n",
      "gs://gbsc-gcp-project-mvp-group/for-jina/dsub/fastqc-bam/fastqc/objects/SHIP4420818_chromosome_7_alignments.bam.fastqc_data.txt\n",
      "gs://gbsc-gcp-project-mvp-group/for-jina/dsub/fastqc-bam/fastqc/objects/SHIP4420818_chromosome_8_alignments.bam.fastqc_data.txt\n",
      "gs://gbsc-gcp-project-mvp-group/for-jina/dsub/fastqc-bam/fastqc/objects/SHIP4420818_chromosome_9_alignments.bam.fastqc_data.txt\n",
      "gs://gbsc-gcp-project-mvp-group/for-jina/dsub/fastqc-bam/fastqc/objects/SHIP4420818_chromosome_MT_alignments.bam.fastqc_data.txt\n",
      "gs://gbsc-gcp-project-mvp-group/for-jina/dsub/fastqc-bam/fastqc/objects/SHIP4420818_chromosome_X_alignments.bam.fastqc_data.txt\n",
      "gs://gbsc-gcp-project-mvp-group/for-jina/dsub/fastqc-bam/fastqc/objects/SHIP4420818_chromosome_Y_alignments.bam.fastqc_data.txt\n",
      "gs://gbsc-gcp-project-mvp-group/for-jina/dsub/fastqc-bam/fastqc/objects/SHIP4420818_chromosome_10_all/\n",
      "gs://gbsc-gcp-project-mvp-group/for-jina/dsub/fastqc-bam/fastqc/objects/SHIP4420818_chromosome_11_all/\n",
      "gs://gbsc-gcp-project-mvp-group/for-jina/dsub/fastqc-bam/fastqc/objects/SHIP4420818_chromosome_12_all/\n",
      "gs://gbsc-gcp-project-mvp-group/for-jina/dsub/fastqc-bam/fastqc/objects/SHIP4420818_chromosome_13_all/\n",
      "gs://gbsc-gcp-project-mvp-group/for-jina/dsub/fastqc-bam/fastqc/objects/SHIP4420818_chromosome_14_all/\n",
      "gs://gbsc-gcp-project-mvp-group/for-jina/dsub/fastqc-bam/fastqc/objects/SHIP4420818_chromosome_15_all/\n",
      "gs://gbsc-gcp-project-mvp-group/for-jina/dsub/fastqc-bam/fastqc/objects/SHIP4420818_chromosome_16_all/\n",
      "gs://gbsc-gcp-project-mvp-group/for-jina/dsub/fastqc-bam/fastqc/objects/SHIP4420818_chromosome_17_all/\n",
      "gs://gbsc-gcp-project-mvp-group/for-jina/dsub/fastqc-bam/fastqc/objects/SHIP4420818_chromosome_18_all/\n",
      "gs://gbsc-gcp-project-mvp-group/for-jina/dsub/fastqc-bam/fastqc/objects/SHIP4420818_chromosome_19_all/\n",
      "gs://gbsc-gcp-project-mvp-group/for-jina/dsub/fastqc-bam/fastqc/objects/SHIP4420818_chromosome_1_all/\n",
      "gs://gbsc-gcp-project-mvp-group/for-jina/dsub/fastqc-bam/fastqc/objects/SHIP4420818_chromosome_20_all/\n",
      "gs://gbsc-gcp-project-mvp-group/for-jina/dsub/fastqc-bam/fastqc/objects/SHIP4420818_chromosome_21_all/\n",
      "gs://gbsc-gcp-project-mvp-group/for-jina/dsub/fastqc-bam/fastqc/objects/SHIP4420818_chromosome_22_all/\n",
      "gs://gbsc-gcp-project-mvp-group/for-jina/dsub/fastqc-bam/fastqc/objects/SHIP4420818_chromosome_2_all/\n",
      "gs://gbsc-gcp-project-mvp-group/for-jina/dsub/fastqc-bam/fastqc/objects/SHIP4420818_chromosome_3_all/\n",
      "gs://gbsc-gcp-project-mvp-group/for-jina/dsub/fastqc-bam/fastqc/objects/SHIP4420818_chromosome_4_all/\n",
      "gs://gbsc-gcp-project-mvp-group/for-jina/dsub/fastqc-bam/fastqc/objects/SHIP4420818_chromosome_5_all/\n",
      "gs://gbsc-gcp-project-mvp-group/for-jina/dsub/fastqc-bam/fastqc/objects/SHIP4420818_chromosome_6_all/\n",
      "gs://gbsc-gcp-project-mvp-group/for-jina/dsub/fastqc-bam/fastqc/objects/SHIP4420818_chromosome_7_all/\n",
      "gs://gbsc-gcp-project-mvp-group/for-jina/dsub/fastqc-bam/fastqc/objects/SHIP4420818_chromosome_8_all/\n",
      "gs://gbsc-gcp-project-mvp-group/for-jina/dsub/fastqc-bam/fastqc/objects/SHIP4420818_chromosome_9_all/\n",
      "gs://gbsc-gcp-project-mvp-group/for-jina/dsub/fastqc-bam/fastqc/objects/SHIP4420818_chromosome_MT_all/\n",
      "gs://gbsc-gcp-project-mvp-group/for-jina/dsub/fastqc-bam/fastqc/objects/SHIP4420818_chromosome_X_all/\n",
      "gs://gbsc-gcp-project-mvp-group/for-jina/dsub/fastqc-bam/fastqc/objects/SHIP4420818_chromosome_Y_all/\n"
     ]
    }
   ],
   "source": [
    "gsutil ls gs://gbsc-gcp-project-mvp-group/for-jina/dsub/fastqc-bam/fastqc/objects"
   ]
  },
  {
   "cell_type": "code",
   "execution_count": 4,
   "metadata": {},
   "outputs": [
    {
     "name": "stdout",
     "output_type": "stream",
     "text": [
      "Job: multiqc--jinasong--180615-150653-82\n",
      "Launched job-id: multiqc--jinasong--180615-150653-82\n",
      "To check the status, run:\n",
      "  dstat --project gbsc-gcp-project-mvp --jobs 'multiqc--jinasong--180615-150653-82' --status '*'\n",
      "To cancel the job, run:\n",
      "  ddel --project gbsc-gcp-project-mvp --jobs 'multiqc--jinasong--180615-150653-82'\n",
      "multiqc--jinasong--180615-150653-82\n"
     ]
    }
   ],
   "source": [
    "dsub \\\n",
    "    --zones ${mvp_zone} \\\n",
    "    --project ${mvp_project} \\\n",
    "    --logging gs://${mvp_bucket}/test/multiqc/logs/${date_stamp} \\\n",
    "    --image ewels/multiqc:v1.5 \\\n",
    "    --command 'multiqc -d gs://gbsc-gcp-project-mvp-group/for-jina/dsub/fastqc-bam/fastqc/objects/'"
   ]
  },
  {
   "cell_type": "code",
   "execution_count": null,
   "metadata": {},
   "outputs": [],
   "source": []
  }
 ],
 "metadata": {
  "kernelspec": {
   "display_name": "Bash",
   "language": "bash",
   "name": "bash"
  },
  "language_info": {
   "codemirror_mode": "shell",
   "file_extension": ".sh",
   "mimetype": "text/x-sh",
   "name": "bash"
  }
 },
 "nbformat": 4,
 "nbformat_minor": 2
}
