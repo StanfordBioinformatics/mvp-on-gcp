{
 "cells": [
  {
   "cell_type": "code",
   "execution_count": 1,
   "metadata": {
    "scrolled": true
   },
   "outputs": [
    {
     "name": "stdout",
     "output_type": "stream",
     "text": [
      "Date stamp: 20180702\n",
      "Home directory: /Users/jinasong/Work/MVP/mvp-on-gcp\n",
      "Project: gbsc-gcp-project-mvp\n",
      "Data_Bucket: gbsc-gcp-project-mvp-from-personalis\n",
      "Anal_Bucket: gbsc-gcp-project-mvp-group/jina-personalis-QC\n",
      "Test_Bucket: gbsc-gcp-project-mvp-group/for-jina\n",
      "Zone: us-*\n"
     ]
    }
   ],
   "source": [
    "echo \"Date stamp: ${date_stamp}\"\n",
    "echo \"Home directory: ${mvp_hub}\"\n",
    "echo \"Project: ${mvp_project}\"\n",
    "echo \"Data_Bucket: ${mvp_data_bucket}\"\n",
    "echo \"Anal_Bucket: ${mvp_anal_bucket}\"\n",
    "echo \"Test_Bucket: ${mvp_test_bucket}\"\n",
    "echo \"Zone: ${mvp_zone}\""
   ]
  },
  {
   "cell_type": "code",
   "execution_count": 2,
   "metadata": {},
   "outputs": [],
   "source": [
    "accounting_dir=\"${mvp_hub}/testing/file-accounting/${date_stamp}\"\n",
    "mkdir -p ${accounting_dir}\n",
    "dsub_inputs_dir=\"${mvp_hub}/testing/dsub-inputs\"\n",
    "mkdir -p ${dsub_inputs_dir}"
   ]
  },
  {
   "cell_type": "code",
   "execution_count": 7,
   "metadata": {
    "scrolled": true
   },
   "outputs": [
    {
     "name": "stdout",
     "output_type": "stream",
     "text": [
      "Job: text2table--jinasong--180702-151928-00\n",
      "Launched job-id: text2table--jinasong--180702-151928-00\n",
      "1 task(s)\n",
      "To check the status, run:\n",
      "  dstat --project gbsc-gcp-project-mvp --jobs 'text2table--jinasong--180702-151928-00' --status '*'\n",
      "To cancel the job, run:\n",
      "  ddel --project gbsc-gcp-project-mvp --jobs 'text2table--jinasong--180702-151928-00'\n",
      "text2table--jinasong--180702-151928-00\n"
     ]
    }
   ],
   "source": [
    "dsub \\\n",
    "    --zones ${mvp_zone} \\\n",
    "    --project ${mvp_project} \\\n",
    "    --logging gs://${mvp_test_bucket}/dsub/test/text-to-table/logs/${date_stamp} \\\n",
    "    --image gcr.io/${mvp_project}/text-to-table:0.2.1 \\\n",
    "    --command 'text2table -s ${SCHEMA} -o ${OUTPUT} -v series=${SERIES},sample=${SAMPLE_ID} ${INPUT}' \\\n",
    "    --tasks ${dsub_inputs_dir}/text-to-table/test.tsv "
   ]
  },
  {
   "cell_type": "code",
   "execution_count": null,
   "metadata": {},
   "outputs": [],
   "source": [
    "#dsub \\\n",
    "#    --zones ${mvp_zone} \\\n",
    "#    --project ${mvp_project} \\\n",
    "#    --logging gs://${mvp_bucket}/dsub/test/text-to-table/logs/ \\\n",
    "#    --image gcr.io/${mvp_project}/text-to-table:0.2.0 \\\n",
    "#    --command 'text2table -j ${mvp_hub}/testing/dsub-scripts/fastqc.json -o ${OUTPUT} -v series=${SERIES},sample=${SAMPLE_ID} ${INPUT}' \\\n",
    "#    --tasks ${dsub_inputs_dir}/text-to-table/gs-fastqc-bam-csv-missing-test.tsv ${mvp_range}\n",
    "-j ${mvp_hub}/fastqc-bam/dsub-scripts/fastqc_seq.json "
   ]
  }
 ],
 "metadata": {
  "kernelspec": {
   "display_name": "Bash",
   "language": "bash",
   "name": "bash"
  },
  "language_info": {
   "codemirror_mode": "shell",
   "file_extension": ".sh",
   "mimetype": "text/x-sh",
   "name": "bash"
  }
 },
 "nbformat": 4,
 "nbformat_minor": 2
}
