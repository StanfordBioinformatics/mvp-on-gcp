{
 "cells": [
  {
   "cell_type": "code",
   "execution_count": 1,
   "metadata": {
    "scrolled": true
   },
   "outputs": [
    {
     "name": "stdout",
     "output_type": "stream",
     "text": [
      "Date stamp: 20180612\n",
      "Home directory: /Users/jinasong/Work/MVP/mvp-on-gcp\n",
      "Project: gbsc-gcp-project-mvp\n",
      "Bucket: gbsc-gcp-project-mvp-group/for-jina\n",
      "Zone: us-*\n"
     ]
    }
   ],
   "source": [
    "echo \"Date stamp: ${date_stamp}\"\n",
    "echo \"Home directory: ${mvp_hub}\"\n",
    "echo \"Project: ${mvp_project}\"\n",
    "echo \"Bucket: ${mvp_bucket}\"\n",
    "echo \"Zone: ${mvp_zone}\""
   ]
  },
  {
   "cell_type": "code",
   "execution_count": 2,
   "metadata": {},
   "outputs": [
    {
     "name": "stdout",
     "output_type": "stream",
     "text": [
      "Job: echo--jinasong--180419-101853-97\n",
      "Launched job-id: echo--jinasong--180419-101853-97\n",
      "To check the status, run:\n",
      "  dstat --project gbsc-gcp-lab-gbsc --jobs 'echo--jinasong--180419-101853-97' --status '*'\n",
      "To cancel the job, run:\n",
      "  ddel --project gbsc-gcp-lab-gbsc --jobs 'echo--jinasong--180419-101853-97'\n",
      "Waiting for job to complete...\n",
      "Waiting for: echo--jinasong--180419-101853-97.\n",
      "  echo--jinasong--180419-101853-97: SUCCESS\n",
      "echo--jinasong--180419-101853-97\n"
     ]
    }
   ],
   "source": [
    "dsub \\\n",
    "    --zones ${mvp_zone} \\\n",
    "    --project ${mvp_project} \\\n",
    "    --logging gs://${mvp_bucket}/test/samtools/merge/logs/${date_stamp} \\\n",
    "    --image gcr.io/${mvp_project}/samtools \\\n",
    "    --command 'samtools merge gs://${mvp_bucket}/test/samtools/merge/objects/${date_stamp}/merge.bam gs://${mvp_bucket}/SHIP4420818/Alignments/*.bam'\n",
    "    #--tasks ${dsub_inputs_dir}/text-to-table/gs-vcfstats-csv-missing-${date_stamp}.tsv"
   ]
  },
  {
   "cell_type": "code",
   "execution_count": 5,
   "metadata": {},
   "outputs": [
    {
     "name": "stdout",
     "output_type": "stream",
     "text": [
      "\n",
      "\n",
      "Updates are available for some Cloud SDK components.  To install them,\n",
      "please run:\n",
      "  $ gcloud components update\n",
      "\n",
      "Hello World Jupyter!\n"
     ]
    }
   ],
   "source": [
    "!gsutil cat gs://gbsc-gcp-lab-gbsc-group/output/jupyter_out.txt"
   ]
  },
  {
   "cell_type": "code",
   "execution_count": null,
   "metadata": {},
   "outputs": [],
   "source": []
  }
 ],
 "metadata": {
  "kernelspec": {
   "display_name": "Bash",
   "language": "bash",
   "name": "bash"
  },
  "language_info": {
   "codemirror_mode": "shell",
   "file_extension": ".sh",
   "mimetype": "text/x-sh",
   "name": "bash"
  }
 },
 "nbformat": 4,
 "nbformat_minor": 2
}
