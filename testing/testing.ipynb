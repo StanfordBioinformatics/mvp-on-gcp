{
 "cells": [
  {
   "cell_type": "code",
   "execution_count": 1,
   "metadata": {
    "scrolled": true
   },
   "outputs": [
    {
     "name": "stdout",
     "output_type": "stream",
     "text": [
      "Date stamp: 20180716\n",
      "Home directory: /Users/jinasong/Work/MVP/mvp-on-gcp\n",
      "Project: gbsc-gcp-project-mvp\n",
      "Test_Bucket: gbsc-gcp-project-mvp-group/for-jina\n",
      "Zone: us-*\n"
     ]
    }
   ],
   "source": [
    "echo \"Date stamp: ${date_stamp}\"\n",
    "echo \"Home directory: ${mvp_hub}\"\n",
    "echo \"Project: ${mvp_project}\"\n",
    "echo \"Test_Bucket: ${mvp_test_bucket}\"\n",
    "echo \"Zone: ${mvp_zone}\""
   ]
  },
  {
   "cell_type": "code",
   "execution_count": 6,
   "metadata": {},
   "outputs": [
    {
     "name": "stdout",
     "output_type": "stream",
     "text": [
      "Job: tar--jinasong--180717-150837-52\n",
      "Launched job-id: tar--jinasong--180717-150837-52\n",
      "1 task(s)\n",
      "To check the status, run:\n",
      "  dstat --project gbsc-gcp-project-mvp --jobs 'tar--jinasong--180717-150837-52' --status '*'\n",
      "To cancel the job, run:\n",
      "  ddel --project gbsc-gcp-project-mvp --jobs 'tar--jinasong--180717-150837-52'\n",
      "tar--jinasong--180717-150837-52\n"
     ]
    }
   ],
   "source": [
    "dsub \\\n",
    "    --zones ${mvp_zone} \\\n",
    "    --project ${mvp_project} \\\n",
    "    --logging gs://${mvp_test_bucket}/test/tar/logs/${date_stamp} \\\n",
    "    --image gcr.io/${mvp_project}/text-to-table-js:0.2.0 \\\n",
    "    --command 'tar -xvf ${INPUT} -C ${OUTPUT_PATH}' \\\n",
    "    --tasks ${mvp_hub}/testing/dsub-inputs/tar/gs-unpacked-missing-test.tsv\n",
    "    #--script ${mvp_hub}/testing/dsub-scripts/tar/tar.sh \\"
   ]
  },
  {
   "cell_type": "code",
   "execution_count": null,
   "metadata": {},
   "outputs": [],
   "source": [
    "#gsutil ls gs://gbsc-gcp-project-mvp-group/for-jina/dsub/fastqc-bam/fastqc/objects"
   ]
  },
  {
   "cell_type": "code",
   "execution_count": 4,
   "metadata": {},
   "outputs": [
    {
     "name": "stdout",
     "output_type": "stream",
     "text": [
      "Job: multiqc--jinasong--180615-150653-82\n",
      "Launched job-id: multiqc--jinasong--180615-150653-82\n",
      "To check the status, run:\n",
      "  dstat --project gbsc-gcp-project-mvp --jobs 'multiqc--jinasong--180615-150653-82' --status '*'\n",
      "To cancel the job, run:\n",
      "  ddel --project gbsc-gcp-project-mvp --jobs 'multiqc--jinasong--180615-150653-82'\n",
      "multiqc--jinasong--180615-150653-82\n"
     ]
    }
   ],
   "source": [
    "dsub \\\n",
    "    --zones ${mvp_zone} \\\n",
    "    --project ${mvp_project} \\\n",
    "    --logging gs://${mvp_bucket}/test/multiqc/logs/${date_stamp} \\\n",
    "    --image ewels/multiqc:v1.5 \\\n",
    "    --command 'multiqc -d gs://gbsc-gcp-project-mvp-group/for-jina/dsub/fastqc-bam/fastqc/objects/'"
   ]
  },
  {
   "cell_type": "code",
   "execution_count": null,
   "metadata": {},
   "outputs": [],
   "source": []
  }
 ],
 "metadata": {
  "kernelspec": {
   "display_name": "Bash",
   "language": "bash",
   "name": "bash"
  },
  "language_info": {
   "codemirror_mode": "shell",
   "file_extension": ".sh",
   "mimetype": "text/x-sh",
   "name": "bash"
  }
 },
 "nbformat": 4,
 "nbformat_minor": 2
}
